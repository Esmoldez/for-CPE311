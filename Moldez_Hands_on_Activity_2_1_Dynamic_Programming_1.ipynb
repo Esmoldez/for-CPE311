{
  "cells": [
    {
      "cell_type": "markdown",
      "metadata": {
        "id": "view-in-github",
        "colab_type": "text"
      },
      "source": [
        "<a href=\"https://colab.research.google.com/github/Esmoldez/for-CPE311/blob/main/Moldez_Hands_on_Activity_2_1_Dynamic_Programming_1.ipynb\" target=\"_parent\"><img src=\"https://colab.research.google.com/assets/colab-badge.svg\" alt=\"Open In Colab\"/></a>"
      ]
    },
    {
      "cell_type": "markdown",
      "id": "f1c6ec95",
      "metadata": {
        "id": "f1c6ec95"
      },
      "source": [
        "# Hands-on Activity 2.1 : Dynamic Programming"
      ]
    },
    {
      "cell_type": "markdown",
      "id": "56dacba1",
      "metadata": {
        "id": "56dacba1"
      },
      "source": [
        "#### Objective(s):\n",
        "\n",
        "This activity aims to demonstrate how to use dynamic programming to solve problems."
      ]
    },
    {
      "cell_type": "markdown",
      "id": "e51f84e3",
      "metadata": {
        "id": "e51f84e3"
      },
      "source": [
        "#### Intended Learning Outcomes (ILOs):\n",
        "* Differentiate recursion method from dynamic programming to solve problems.\n",
        "* Demonstrate how to  solve real-world problems using dynamic programming\n"
      ]
    },
    {
      "cell_type": "markdown",
      "id": "39047b1a",
      "metadata": {
        "id": "39047b1a"
      },
      "source": [
        "#### Resources:\n",
        "* Jupyter Notebook\n"
      ]
    },
    {
      "cell_type": "markdown",
      "id": "cb5360c0",
      "metadata": {
        "id": "cb5360c0"
      },
      "source": [
        "#### Procedures:"
      ]
    },
    {
      "cell_type": "markdown",
      "id": "206a914c",
      "metadata": {
        "id": "206a914c"
      },
      "source": [
        "1. Create a code that demonstrate how to use recursion method to solve problem"
      ]
    },
    {
      "cell_type": "code",
      "source": [
        "def sack_rec(size, w, v, n):\n",
        "    # Base case\n",
        "    if n == 0 or size == 0:\n",
        "        return 0\n",
        "\n",
        "    # If item is oversized, skip it\n",
        "    if w[n - 1] > size:\n",
        "        return sack_rec(size, w, v, n - 1)\n",
        "\n",
        "\n",
        "    return max(\n",
        "        v[n - 1] + sack_rec(size - w[n - 1], w, v, n - 1),\n",
        "        sack_rec(size, w, v, n - 1)\n",
        "    )\n",
        "\n",
        "# Example usage:\n",
        "v = [60, 80, 120]\n",
        "w = [4, 8, 12]\n",
        "size = 28\n",
        "n = len(v)\n",
        "\n",
        "res = sack_rec(size, w, v, n)\n",
        "print(\"Maximum value:\", res)"
      ],
      "metadata": {
        "id": "MkFKoAIsOaUU"
      },
      "id": "MkFKoAIsOaUU",
      "execution_count": null,
      "outputs": []
    },
    {
      "cell_type": "code",
      "source": [
        "# knapack problem with memoization\n",
        "def sackMemo(size, w, v, n, memo):\n",
        "    # Base case\n",
        "    if n == 0 or size == 0:\n",
        "        return 0\n",
        "\n",
        "    if (n, size) in memo:\n",
        "        return memo[(n, size)]\n",
        "\n",
        "    if w[n - 1] > size:\n",
        "        memo[(n, size)] = sackMemo(size, w, v, n - 1, memo)\n",
        "    else:\n",
        "\n",
        "        memo[(n, size)] = max(\n",
        "            v[n - 1] + sackMemo(size - w[n - 1], w, v, n - 1, memo),\n",
        "            sackMemo(size, w, v, n - 1, memo)\n",
        "        )\n",
        "\n",
        "    return memo[(n, size)]\n",
        "\n",
        "\n",
        "v = [60, 80, 120]\n",
        "w = [4, 8, 12]\n",
        "size = 28\n",
        "n = len(v)\n",
        "\n",
        "\n",
        "memo_dict = {}\n",
        "\n",
        "print(\"=\" * 40)\n",
        "print(\"   KNAPSACK PROBLEM - MAXIMUM VALUE   \")\n",
        "print(\"=\" * 40)\n",
        "\n",
        "max_value = sackMemo(size, w, v, n, memo_dict)\n",
        "print(f\"\\nTotal Items: {n}\")\n",
        "print(f\"Sack Capacity: {size}\")\n",
        "print(f\"Maximum Value: {max_value}\")\n",
        "\n",
        "print(\"=\" * 40)\n"
      ],
      "metadata": {
        "id": "LVi7ilvQOoOe"
      },
      "id": "LVi7ilvQOoOe",
      "execution_count": null,
      "outputs": []
    },
    {
      "cell_type": "markdown",
      "id": "b5a71b53",
      "metadata": {
        "id": "b5a71b53"
      },
      "source": [
        "Explain the difference of using the recursion from dynamic programming using the given sample codes to solve the same problem </p>\n",
        "In order to tackle smaller subproblems, the recursive method in `sack_rec` continuously calls itself; nevertheless, it discards previous results, resulting in unnecessary computations and rendering it inefficient for big inputs. By using a dictionary (`memo`) to hold previously calculated values, `sackMemo`, on the other hand, eliminates redundant work. By reducing the amount of recursive calls, the dynamic programming.\n",
        "\n"
      ]
    },
    {
      "cell_type": "markdown",
      "id": "5744a876",
      "metadata": {
        "id": "5744a876"
      },
      "source": [
        "2. Create a program codes that demonstrate how to use dynamic programming to solve the same problem"
      ]
    },
    {
      "cell_type": "markdown",
      "id": "60074702",
      "metadata": {
        "id": "60074702"
      },
      "source": [
        "3. Create a sample program codes to simulate bottom-up dynamic programming"
      ]
    },
    {
      "cell_type": "markdown",
      "id": "e629eb89",
      "metadata": {
        "id": "e629eb89"
      },
      "source": [
        "4. Create a sample program codes that simulate tops-down dynamic programming"
      ]
    },
    {
      "cell_type": "code",
      "source": [
        "# Fibonacci using Tabulation (Bottom-Up)\n",
        "def fibTab(n):\n",
        "\n",
        "  # Base case\n",
        "    tb = [0, 1] + [0] * (n - 1)\n",
        "    for i in range(2, n + 1):\n",
        "      # Compute iteratively\n",
        "        tb[i] = tb[i - 1] + tb[i - 2]\n",
        "    return tb[:n + 1]\n",
        "\n",
        "\n",
        "# Factorial using Memoization (Top-Down)\n",
        "def factMemo(n, memo):\n",
        "    if n == 0 or n == 1:\n",
        "        return 1\n",
        "    if n not in memo:\n",
        "      # Store result in memo\n",
        "        memo[n] = n * factMemo(n - 1, memo)\n",
        "    return memo[n]\n",
        "\n",
        "\n",
        "print(\"=\" * 30)\n",
        "print(\"  Fibonacci & Factorial Finder  \")\n",
        "print(\"=\" * 30)\n",
        "\n",
        "fib_num = int(input(\"Enter a number for Fibonacci: \"))\n",
        "fact_num = int(input(\"Enter a number for Factorial: \"))\n",
        "\n",
        "# Memo dictionary for factorial\n",
        "memo_dict = {}\n",
        "\n",
        "# Output\n",
        "print(\"\\nResults:\")\n",
        "print(\"-\" * 30)\n",
        "print(f\"Fibonacci Sequence ({fib_num}): {fibTab(fib_num)}\")\n",
        "print(f\"Factorial ({fact_num}): {factMemo(fact_num, memo_dict)}\")\n",
        "print(\"=\" * 30)\n"
      ],
      "metadata": {
        "colab": {
          "base_uri": "https://localhost:8080/"
        },
        "id": "acfGGCvCkc0Y",
        "outputId": "68e58ca8-e181-477a-9236-8a730dc7c634"
      },
      "id": "acfGGCvCkc0Y",
      "execution_count": null,
      "outputs": [
        {
          "output_type": "stream",
          "name": "stdout",
          "text": [
            "==============================\n",
            "  Fibonacci & Factorial Finder  \n",
            "==============================\n",
            "Enter a number for Fibonacci: 4\n",
            "Enter a number for Factorial: 4\n",
            "\n",
            "Results:\n",
            "------------------------------\n",
            "Fibonacci Sequence (4): [0, 1, 1, 2, 3]\n",
            "Factorial (4): 24\n",
            "==============================\n"
          ]
        }
      ]
    },
    {
      "cell_type": "markdown",
      "id": "c2e2434c",
      "metadata": {
        "id": "c2e2434c"
      },
      "source": [
        "#### Question:\n",
        "Bottom-up dynamic programming begins with the smallest conditions and gradually building up the solution using loops. Top-down, on the other hand, begins with the main problem and uses recursion to break it down into smaller components, keeping track of previous outcomes to prevent repetitive work."
      ]
    },
    {
      "cell_type": "markdown",
      "id": "ac97e063",
      "metadata": {
        "id": "ac97e063"
      },
      "source": [
        "Type your answer here:\n",
        "\n",
        "\n",
        "\n",
        "\n"
      ]
    },
    {
      "cell_type": "markdown",
      "id": "f7a5bfbd",
      "metadata": {
        "id": "f7a5bfbd"
      },
      "source": [
        "0/1 Knapsack Problem\n",
        "\n",
        "* Analyze three different techniques to solve knapsacks problem\n",
        "1. Recursion\n",
        "2. Dynamic Programming\n",
        "3. Memoization"
      ]
    },
    {
      "cell_type": "code",
      "source": [
        "#sample code for knapsack problem using recursion\n",
        "def rec_knapSack(w, wt, val, n):\n",
        "\n",
        "  #base case\n",
        "  #defined as nth item is empty;\n",
        "  #or the capacity w is 0\n",
        "  if n == 0 or w == 0:\n",
        "    return 0\n",
        "\n",
        "  #if weight of the nth item is more than\n",
        "  #the capacity W, then this item cannot be included\n",
        "  #as part of the optimal solution\n",
        "  if(wt[n-1] > w):\n",
        "    return rec_knapSack(w, wt, val, n-1)\n",
        "\n",
        "  #return the maximum of the two cases:\n",
        "  # (1) include the nth item\n",
        "  # (2) don't include the nth item\n",
        "  else:\n",
        "    return max(\n",
        "        val[n-1] + rec_knapSack(\n",
        "            w-wt[n-1], wt, val, n-1),\n",
        "            rec_knapSack(w, wt, val, n-1)\n",
        "    )"
      ],
      "metadata": {
        "id": "15SVHF85_1Ji"
      },
      "id": "15SVHF85_1Ji",
      "execution_count": null,
      "outputs": []
    },
    {
      "cell_type": "code",
      "source": [
        "#To test:\n",
        "val = [60, 100, 120] #values for the items\n",
        "wt = [10, 20, 30] #weight of the items\n",
        "w = 50 #knapsack weight capacity\n",
        "n = len(val) #number of items\n",
        "\n",
        "rec_knapSack(w, wt, val, n)"
      ],
      "metadata": {
        "colab": {
          "base_uri": "https://localhost:8080/"
        },
        "id": "b1D3YRJ7cMqU",
        "outputId": "788d87c8-0d84-4dd6-dfcf-1206fa495812"
      },
      "id": "b1D3YRJ7cMqU",
      "execution_count": null,
      "outputs": [
        {
          "output_type": "execute_result",
          "data": {
            "text/plain": [
              "220"
            ]
          },
          "metadata": {},
          "execution_count": 27
        }
      ]
    },
    {
      "cell_type": "code",
      "source": [
        "#Dynamic Programming for the Knapsack Problem\n",
        "def DP_knapSack(w, wt, val, n):\n",
        "  #create the table\n",
        "  table = [[0 for x in range(w+1)] for x in range (n+1)]\n",
        "\n",
        "  #populate the table in a bottom-up approach\n",
        "  for i in range(n+1):\n",
        "    for w in range(w+1):\n",
        "      if i == 0 or w == 0:\n",
        "        table[i][w] = 0\n",
        "      elif wt[i-1] <= w:\n",
        "        table[i][w] = max(val[i-1] + table[i-1][w-wt[i-1]],\n",
        "                          table[i-1][w])\n",
        "  return table[n][w]"
      ],
      "metadata": {
        "id": "A8OU1sUJ_1ES"
      },
      "id": "A8OU1sUJ_1ES",
      "execution_count": null,
      "outputs": []
    },
    {
      "cell_type": "code",
      "source": [
        "#To test:\n",
        "val = [60, 100, 120]\n",
        "wt = [10, 20, 30]\n",
        "w = 50\n",
        "n = len(val)\n",
        "\n",
        "DP_knapSack(w, wt, val, n)"
      ],
      "metadata": {
        "colab": {
          "base_uri": "https://localhost:8080/"
        },
        "id": "GUNeEPHrd-N1",
        "outputId": "4829e602-248b-48f8-cbd3-e75c4d87d3b6"
      },
      "id": "GUNeEPHrd-N1",
      "execution_count": null,
      "outputs": [
        {
          "output_type": "execute_result",
          "data": {
            "text/plain": [
              "220"
            ]
          },
          "metadata": {},
          "execution_count": 29
        }
      ]
    },
    {
      "cell_type": "code",
      "source": [
        "#Sample for top-down DP approach (memoization)\n",
        "#initialize the list of items\n",
        "val = [60, 100, 120]\n",
        "wt = [10, 20, 30]\n",
        "w = 50\n",
        "n = len(val)\n",
        "\n",
        "#initialize the container for the values that have to be stored\n",
        "#values are initialized to -1\n",
        "calc =[[-1 for i in range(w+1)] for j in range(n+1)]\n",
        "\n",
        "\n",
        "def mem_knapSack(wt, val, w, n):\n",
        "  #base conditions\n",
        "  if n == 0 or w == 0:\n",
        "    return 0\n",
        "  if calc[n][w] != -1:\n",
        "    return calc[n][w]\n",
        "\n",
        "  #compute for the other cases\n",
        "  if wt[n-1] <= w:\n",
        "    calc[n][w] = max(val[n-1] + mem_knapSack(wt, val, w-wt[n-1], n-1),\n",
        "                     mem_knapSack(wt, val, w, n-1))\n",
        "    return calc[n][w]\n",
        "  elif wt[n-1] > w:\n",
        "    calc[n][w] = mem_knapSack(wt, val, w, n-1)\n",
        "    return calc[n][w]\n",
        "\n",
        "mem_knapSack(wt, val, w, n)"
      ],
      "metadata": {
        "id": "VgwTX-XT_0_h",
        "colab": {
          "base_uri": "https://localhost:8080/"
        },
        "outputId": "6f3c2cc6-01fc-433a-ae1e-cbb99976c028"
      },
      "id": "VgwTX-XT_0_h",
      "execution_count": null,
      "outputs": [
        {
          "output_type": "execute_result",
          "data": {
            "text/plain": [
              "220"
            ]
          },
          "metadata": {},
          "execution_count": 31
        }
      ]
    },
    {
      "cell_type": "markdown",
      "source": [
        "**Code Analysis**\n",
        "\n",
        "There methods for solving the Knapsack Problems\n",
        "memoization, dynamic programming, and recursion.  All are feasible solutions to include or exclude items are explored using the recursive technique (rec_knapSack), however it becomes inefficient for large inputs due to the numerous calculations it repeats.  Dynamic programming (DP_knapSack) increases performance by eliminating needless recalculations by storing solutions for smaller subproblems in a table and working up to the final result.  Similar steps are taken by mem_knapSack, a method that avoids repeating computations by storing previously calculated values during recursion."
      ],
      "metadata": {
        "id": "-UXSSblDcF8T"
      },
      "id": "-UXSSblDcF8T"
    },
    {
      "cell_type": "markdown",
      "source": [
        "## Seatwork 2.1"
      ],
      "metadata": {
        "id": "IGsdUGCUcTFd"
      },
      "id": "IGsdUGCUcTFd"
    },
    {
      "cell_type": "markdown",
      "id": "0462053d",
      "metadata": {
        "id": "0462053d"
      },
      "source": [
        "Task 1: Modify the three techniques to include additional criterion in the knapsack problems"
      ]
    },
    {
      "cell_type": "code",
      "execution_count": null,
      "id": "ed2f6186",
      "metadata": {
        "id": "ed2f6186",
        "colab": {
          "base_uri": "https://localhost:8080/"
        },
        "outputId": "eed8b9ba-0fb3-4eba-be53-d43ec73288a1"
      },
      "outputs": [
        {
          "output_type": "stream",
          "name": "stdout",
          "text": [
            "Maximum value: 180\n"
          ]
        }
      ],
      "source": [
        "#Recursion\n",
        "# Recursive Knapsack\n",
        "def rec_knapSack(w, wt, val, maxLoad, n):\n",
        "    if n == 0 or w == 0:\n",
        "        return 0\n",
        "\n",
        "    # Skip item if too heavy or if its max load is exceeded\n",
        "    if wt[n-1] > w or maxLoad[n-1] > w / 2:\n",
        "        return rec_knapSack(w, wt, val, maxLoad, n-1)\n",
        "\n",
        "    return max(\n",
        "        val[n-1] + rec_knapSack(w - wt[n-1], wt, val, maxLoad, n-1),\n",
        "        rec_knapSack(w, wt, val, maxLoad, n-1)\n",
        "    )\n",
        "\n",
        "val = [60, 100, 120]\n",
        "wt = [10, 20, 30]\n",
        "maxLoad = [5, 15, 10]\n",
        "w = 50\n",
        "n = len(val)\n",
        "\n",
        "res = rec_knapSack(w, wt, val, maxLoad, n)\n",
        "print(\"Maximum value:\", res)\n",
        "\n",
        "\n",
        "\n",
        "\n"
      ]
    },
    {
      "cell_type": "code",
      "source": [
        "#Dynamic\n",
        "# Bottom-Up DP Knapsack\n",
        "def DP_knapSack(w, wt, val, qty, n):\n",
        "    table = [[0 for _ in range(w+1)] for _ in range(n+1)]\n",
        "\n",
        "    for i in range(1, n+1):\n",
        "        for j in range(w+1):\n",
        "            table[i][j] = table[i-1][j]\n",
        "\n",
        "            for count in range(1, qty[i-1] + 1):\n",
        "                if count * wt[i-1] <= j:\n",
        "                    table[i][j] = max(\n",
        "                        table[i][j],\n",
        "                        table[i-1][j - count * wt[i-1]] + count * val[i-1]\n",
        "                    )\n",
        "\n",
        "    return table[n][w]\n",
        "\n",
        "res = DP_knapSack(w, wt, val, qty, n)\n",
        "print(\"Maximum value:\", res)"
      ],
      "metadata": {
        "colab": {
          "base_uri": "https://localhost:8080/"
        },
        "id": "kpS2PQhA-A9a",
        "outputId": "7bf125dc-86a9-4360-b2f0-beb32b77e028"
      },
      "id": "kpS2PQhA-A9a",
      "execution_count": null,
      "outputs": [
        {
          "output_type": "stream",
          "name": "stdout",
          "text": [
            "Maximum value: 260\n"
          ]
        }
      ]
    },
    {
      "cell_type": "code",
      "source": [
        "# Memoization Knapsack\n",
        "def mem_knapSack(wt, val, qty, w, n, memo):\n",
        "    if n == 0 or w == 0:\n",
        "        return 0\n",
        "\n",
        "    if (n, w) in memo:\n",
        "        return memo[(n, w)]\n",
        "\n",
        "    max_val = mem_knapSack(wt, val, qty, w, n-1, memo)\n",
        "\n",
        "\n",
        "    for count in range(1, qty[n-1] + 1):\n",
        "        if count * wt[n-1] <= w:\n",
        "            max_val = max(\n",
        "                max_val,\n",
        "                count * val[n-1] + mem_knapSack(wt, val, qty, w - count * wt[n-1], n-1, memo)\n",
        "            )\n",
        "\n",
        "    memo[(n, w)] = max_val\n",
        "    return max_val\n",
        "\n",
        "memo_dict = {}\n",
        "res = mem_knapSack(wt, val, qty, w, n, memo_dict)\n",
        "print(\"Maximum value:\", res)\n"
      ],
      "metadata": {
        "id": "vL3ClDmO-bcx"
      },
      "id": "vL3ClDmO-bcx",
      "execution_count": null,
      "outputs": []
    },
    {
      "cell_type": "markdown",
      "id": "d97e864e",
      "metadata": {
        "id": "d97e864e"
      },
      "source": [
        "Fibonacci Numbers"
      ]
    },
    {
      "cell_type": "markdown",
      "id": "f44e88aa",
      "metadata": {
        "id": "f44e88aa"
      },
      "source": [
        "Task 2: Create a sample program that find the nth number of Fibonacci Series using Dynamic Programming"
      ]
    },
    {
      "cell_type": "code",
      "source": [
        "# Fibonacci with Memoization\n",
        "def fibMemo(n, memo={}):\n",
        "    if n in memo:\n",
        "        return memo[n]\n",
        "    if n <= 1:\n",
        "        return n\n",
        "\n",
        "    memo[n] = fibMemo(n - 1, memo) + fibMemo(n - 2, memo)\n",
        "    return memo[n]\n",
        "\n",
        "num = int(input(\"Enter a number: \"))\n",
        "\n",
        "print(\"~*~*~ Fibonacci Sequence ~*~*~\")\n",
        "\n",
        "fib_sequence = []\n",
        "\n",
        "for i in range(num + 1):\n",
        "    fib_sequence.append(fibMemo(i))\n",
        "\n",
        "for num in fib_sequence:\n",
        "    print(num, end=\" \")\n",
        "\n"
      ],
      "metadata": {
        "id": "HoqkUdvj_2ZZ",
        "colab": {
          "base_uri": "https://localhost:8080/"
        },
        "outputId": "dfe362ec-c42d-43f1-efc9-98bf6cedbe24"
      },
      "id": "HoqkUdvj_2ZZ",
      "execution_count": null,
      "outputs": [
        {
          "output_type": "stream",
          "name": "stdout",
          "text": [
            "Enter a number: 4\n",
            "~*~*~ Fibonacci Sequence ~*~*~\n",
            "0 1 1 2 3 "
          ]
        }
      ]
    },
    {
      "cell_type": "code",
      "execution_count": null,
      "id": "745871be",
      "metadata": {
        "id": "745871be"
      },
      "outputs": [],
      "source": [
        "#type your code here"
      ]
    },
    {
      "cell_type": "markdown",
      "id": "070ddd75",
      "metadata": {
        "id": "070ddd75"
      },
      "source": [
        "## Supplementary Problem (HOA 2.1 Submission):\n",
        "* Choose a real-life problem\n",
        "* Use recursion and dynamic programming to solve the problem"
      ]
    },
    {
      "cell_type": "markdown",
      "source": [
        "PROBLEM</P>Sabby’s Daily Schedule Planning\n",
        "Sabby is a college student trying to plan her daily schedule wisely. She has 12 hours available for important activities, but she also has anemia, so she must allocate at least 2 hours for rest to maintain her health. Each activity takes a different amount of time and has a different priority value based on necessity and overall benefit.\n",
        "\n",
        "The activities she can choose from include:\n",
        "\n",
        "Attending Classes (4 hours, priority value 100)\n",
        "Studying & Homework (3 hours, priority value 90)\n",
        "Resting (Mandatory: At least 2 hours) (2 hours, priority value 95)\n",
        "Relaxing & Socializing (3 hours, priority value 60)\n",
        "Sabby’s goal is to maximize the total priority value of her day while ensuring she rests for at least 2 hours and does not exceed her 12-hour limit.\n",
        "\n",
        "How should she schedule her time to balance productivity and well-being?"
      ],
      "metadata": {
        "id": "53H_TtiJD5nX"
      },
      "id": "53H_TtiJD5nX"
    },
    {
      "cell_type": "code",
      "execution_count": null,
      "id": "86eef507",
      "metadata": {
        "id": "86eef507",
        "colab": {
          "base_uri": "https://localhost:8080/"
        },
        "outputId": "f8c6934d-709a-4643-bab7-eea0003686db"
      },
      "outputs": [
        {
          "output_type": "stream",
          "name": "stdout",
          "text": [
            "Best total priority: 240\n",
            "Selected Tasks:\n",
            " - Exercise <1 hrs, Priority 40>\n",
            " - Rest <2 hrs, Priority 100>\n",
            " - Studying <5 hrs, Priority 100>\n"
          ]
        }
      ],
      "source": [
        "class Task:\n",
        "    def __init__(self, task_type, duration, priority):\n",
        "        self.task_type = task_type\n",
        "        self.duration = duration  # Time required (hours)\n",
        "        self.priority = priority  # Importance level\n",
        "\n",
        "    def __str__(self):\n",
        "        return f\"{self.task_type} <{self.duration} hrs, Priority {self.priority}>\"\n",
        "\n",
        "    def getDuration(self):\n",
        "        return self.duration\n",
        "\n",
        "    def getPriority(self):\n",
        "        return self.priority\n",
        "\n",
        "\n",
        "def createSchedule(types, durations, priorities):\n",
        "    return [Task(types[i], durations[i], priorities[i]) for i in range(len(types))]\n",
        "\n",
        "\n",
        "def maxSchedule(toConsider, available, mustInclude):\n",
        "    if not toConsider or available == 0:\n",
        "        return (0, ())\n",
        "\n",
        "    first = toConsider[0]\n",
        "\n",
        "    if first in mustInclude:\n",
        "        if first.getDuration() > available:\n",
        "            return (0, ())\n",
        "        withPriority, withTasks = maxSchedule(toConsider[1:], available - first.getDuration(), mustInclude)\n",
        "        return (withPriority + first.getPriority(), withTasks + (first,))\n",
        "\n",
        "    if first.getDuration() > available:\n",
        "        return maxSchedule(toConsider[1:], available, mustInclude)\n",
        "\n",
        "    # Include the task\n",
        "    withPriority, withTasks = maxSchedule(toConsider[1:], available - first.getDuration(), mustInclude)\n",
        "    withPriority += first.getPriority()\n",
        "\n",
        "    # Skip the task\n",
        "    withoutPriority, withoutTasks = maxSchedule(toConsider[1:], available, mustInclude)\n",
        "\n",
        "    return (withPriority, withTasks + (first,)) if withPriority > withoutPriority else (withoutPriority, withoutTasks)\n",
        "\n",
        "\n",
        "def testMaxSchedule(tasks, available_time, required_tasks):\n",
        "    bestPriority, bestSelection = maxSchedule(tasks, available_time, required_tasks)\n",
        "    print(f\"Best total priority: {bestPriority}\")\n",
        "    print(\"Selected Tasks:\")\n",
        "    for task in bestSelection:\n",
        "        print(f\" - {task}\")\n",
        "\n",
        "\n",
        "task_types = [\"Studying\", \"Rest\", \"Exercise\", \"Leisure\"]\n",
        "durations = [5, 2, 1, 3]\n",
        "priorities = [100, 100, 40, 60]\n",
        "schedule = createSchedule(task_types, durations, priorities)\n",
        "\n",
        "testMaxSchedule(schedule, 8, {schedule[1]})\n"
      ]
    },
    {
      "cell_type": "code",
      "execution_count": null,
      "id": "73b071b6",
      "metadata": {
        "id": "73b071b6",
        "colab": {
          "base_uri": "https://localhost:8080/"
        },
        "outputId": "074d913b-c091-4e0a-8fa5-a3c1eae516d5"
      },
      "outputs": [
        {
          "output_type": "stream",
          "name": "stdout",
          "text": [
            "Best total priority: 240\n",
            "Selected Tasks:\n",
            " - School <4 hrs, Priority 90>\n",
            " - Rest <2 hrs, Priority 100>\n",
            " - Exercise <1 hrs, Priority 50>\n"
          ]
        }
      ],
      "source": [
        "class Task:\n",
        "    def __init__(self, task_type, duration, priority):\n",
        "        self.task_type = task_type\n",
        "        self.duration = duration\n",
        "        self.priority = priority\n",
        "\n",
        "    def __str__(self):\n",
        "        return f\"{self.task_type} <{self.duration} hrs, Priority {self.priority}>\"\n",
        "\n",
        "    def getDuration(self):\n",
        "        return self.duration\n",
        "\n",
        "    def getPriority(self):\n",
        "        return self.priority\n",
        "\n",
        "\n",
        "def createSchedule(types, durations, priorities):\n",
        "    return [Task(types[i], durations[i], priorities[i]) for i in range(len(types))]\n",
        "\n",
        "\n",
        "def maxScheduleDP(index, available_time, must_include, tasks, cache=None):\n",
        "    '''\n",
        "    Dynamic Programming Approach with Memoization:\n",
        " This dynamic programming solution optimizes task selection within a given time\n",
        " limit while ensuring that a required task (Rest) is always included.\n",
        "    Memoization is used to store previously computed results, reducing\n",
        "    redundant calculations.\n",
        "    '''\n",
        "    if cache is None:\n",
        "        cache = {}\n",
        "\n",
        "    if index < 0 or available_time == 0:\n",
        "        return 0, ()\n",
        "\n",
        "    key = (index, available_time)\n",
        "    if key in cache:\n",
        "        return cache[key]\n",
        "\n",
        "    current_task = tasks[index]\n",
        "\n",
        "    if current_task == must_include:\n",
        "        if current_task.getDuration() > available_time:\n",
        "            return 0, ()\n",
        "        with_priority, with_tasks = maxScheduleDP(index - 1, available_time - current_task.getDuration(), must_include, tasks, cache)\n",
        "        result = (with_priority + current_task.getPriority(), with_tasks + (current_task,))\n",
        "    else:\n",
        "        without_priority, without_tasks = maxScheduleDP(index - 1, available_time, must_include, tasks, cache)\n",
        "\n",
        "        if current_task.getDuration() <= available_time:\n",
        "            with_priority, with_tasks = maxScheduleDP(index - 1, available_time - current_task.getDuration(), must_include, tasks, cache)\n",
        "            with_priority += current_task.getPriority()\n",
        "\n",
        "            if with_priority > without_priority:\n",
        "                result = (with_priority, with_tasks + (current_task,))\n",
        "            else:\n",
        "                result = (without_priority, without_tasks)\n",
        "        else:\n",
        "            result = (without_priority, without_tasks)\n",
        "\n",
        "    cache[key] = result\n",
        "    return result\n",
        "\n",
        "\n",
        "def testMaxScheduleDP(tasks, available_time, required_task):\n",
        "    best_priority, best_selection = maxScheduleDP(len(tasks) - 1, available_time, required_task, tuple(tasks))\n",
        "    print(f\"Best total priority: {best_priority}\")\n",
        "    print(\"Selected Tasks:\")\n",
        "    for task in best_selection:\n",
        "        print(f\" - {task}\")\n",
        "\n",
        "\n",
        "task_types = [\"School\", \"Rest\", \"Exercise\", \"Social-Media\"]\n",
        "durations = [4, 2, 1, 3]\n",
        "priorities = [90, 100, 50, 70]\n",
        "\n",
        "schedule = createSchedule(task_types, durations, priorities)\n",
        "\n",
        "# Available time = 8 hours, Rest is mandatory\n",
        "testMaxScheduleDP(schedule, 8, schedule[1])\n"
      ]
    },
    {
      "cell_type": "markdown",
      "id": "bb0ed6a9",
      "metadata": {
        "id": "bb0ed6a9"
      },
      "source": [
        "#### Conclusion"
      ]
    },
    {
      "cell_type": "code",
      "source": [
        "'''\n",
        "Working with recursive and dynamic programming in this HOA has helped me better understand their differences.\n",
        "Recursion offers a simple method of decomposing difficulties into smaller subproblems, based on my prior knowledge with the codes; nonetheless,\n",
        "it frequently results in repetitive computations.  However, dynamic programming makes recursion much more efficient by optimizing it through the storage of prior results.\n",
        "Even though I am inherently better at comprehending ideas than putting them into practice, regular practice with sample problems, online guides, and lab exercises\n",
        "has allowed me to gradually get better step by step making progress. Although I still have a long way to go, I can already see my development as\n",
        "I gradually get over my coding difficulties by using what I've learnt in a progressive way.\n"
      ],
      "metadata": {
        "id": "yrgf_zGxMVbX"
      },
      "id": "yrgf_zGxMVbX",
      "execution_count": null,
      "outputs": []
    }
  ],
  "metadata": {
    "kernelspec": {
      "display_name": "Python 3",
      "language": "python",
      "name": "python3"
    },
    "language_info": {
      "codemirror_mode": {
        "name": "ipython",
        "version": 3
      },
      "file_extension": ".py",
      "mimetype": "text/x-python",
      "name": "python",
      "nbconvert_exporter": "python",
      "pygments_lexer": "ipython3",
      "version": "3.7.10"
    },
    "colab": {
      "provenance": [],
      "include_colab_link": true
    }
  },
  "nbformat": 4,
  "nbformat_minor": 5
}