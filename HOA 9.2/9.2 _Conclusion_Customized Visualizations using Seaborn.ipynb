{
 "cells": [
  {
   "cell_type": "markdown",
   "id": "6484a4ab-ce01-4769-a058-4d8014214e6f",
   "metadata": {},
   "source": [
    "### CONCLUSION <BR>\n",
    "#####  9.2 Customized Visualizations using Seaborn"
   ]
  },
  {
   "cell_type": "markdown",
   "id": "f728576a-3a0e-4305-8c80-8d10b9f3d5c1",
   "metadata": {},
   "source": [
    "This activity was a new experience for me. In the past, I mostly used Matplotlib for data visualization, but working with Seaborn gave me a fresh perspective. I learned how to use different plots to spot patterns in data like earthquake records and stock prices. I realized that visualizations can make complex data easier to understand, but formatting the graphs, especially the reg_resid_plot, was a challenge. It was tough to process everything at once, but I’m excited to continue learning. Despite the difficulties, this experience has sparked my interest in data science, and I know with more practice, I’ll get better at creating clear and meaningful visuals.\n",
    "\n",
    "\n",
    "\n"
   ]
  }
 ],
 "metadata": {
  "kernelspec": {
   "display_name": "Python [conda env:base] *",
   "language": "python",
   "name": "conda-base-py"
  },
  "language_info": {
   "codemirror_mode": {
    "name": "ipython",
    "version": 3
   },
   "file_extension": ".py",
   "mimetype": "text/x-python",
   "name": "python",
   "nbconvert_exporter": "python",
   "pygments_lexer": "ipython3",
   "version": "3.12.7"
  }
 },
 "nbformat": 4,
 "nbformat_minor": 5
}
