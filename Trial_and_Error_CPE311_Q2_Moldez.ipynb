{
  "nbformat": 4,
  "nbformat_minor": 0,
  "metadata": {
    "colab": {
      "provenance": [],
      "authorship_tag": "ABX9TyOyJwSqG4V4PwPjAqhca8tE",
      "include_colab_link": true
    },
    "kernelspec": {
      "name": "python3",
      "display_name": "Python 3"
    },
    "language_info": {
      "name": "python"
    }
  },
  "cells": [
    {
      "cell_type": "markdown",
      "metadata": {
        "id": "view-in-github",
        "colab_type": "text"
      },
      "source": [
        "<a href=\"https://colab.research.google.com/github/Esmoldez/for-CPE311/blob/main/Trial_and_Error_CPE311_Q2_Moldez.ipynb\" target=\"_parent\"><img src=\"https://colab.research.google.com/assets/colab-badge.svg\" alt=\"Open In Colab\"/></a>"
      ]
    },
    {
      "cell_type": "code",
      "source": [
        "def ChangeCoins(coins, C):\n",
        "    dp = [999999] * (C + 1)\n",
        "    dp[0] = 0\n",
        "\n",
        "    for i in range(1, C + 1):\n",
        "        for coin in coins:\n",
        "            if i >= coin:\n",
        "                dp[i] = min(dp[i], 1 + dp[i - coin])\n",
        "\n",
        "    return dp[C]\n",
        "\n",
        "# Try\n",
        "print(ChangeCoins([1, 5, 10, 20], 100))\n"
      ],
      "metadata": {
        "id": "QceM3qDCkSuj"
      },
      "execution_count": null,
      "outputs": []
    }
  ]
}