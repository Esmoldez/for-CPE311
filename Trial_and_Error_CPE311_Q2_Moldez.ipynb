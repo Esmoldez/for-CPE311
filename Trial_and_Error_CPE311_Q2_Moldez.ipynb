{
  "nbformat": 4,
  "nbformat_minor": 0,
  "metadata": {
    "colab": {
      "provenance": [],
      "authorship_tag": "ABX9TyNJ0O1kdZP7mn86yJYwqS+T",
      "include_colab_link": true
    },
    "kernelspec": {
      "name": "python3",
      "display_name": "Python 3"
    },
    "language_info": {
      "name": "python"
    }
  },
  "cells": [
    {
      "cell_type": "markdown",
      "metadata": {
        "id": "view-in-github",
        "colab_type": "text"
      },
      "source": [
        "<a href=\"https://colab.research.google.com/github/Esmoldez/for-CPE311/blob/main/Trial_and_Error_CPE311_Q2_Moldez.ipynb\" target=\"_parent\"><img src=\"https://colab.research.google.com/assets/colab-badge.svg\" alt=\"Open In Colab\"/></a>"
      ]
    },
    {
      "cell_type": "code",
      "source": [
        "def ChangeCoins(coins, C):\n",
        "    dp = [10**999] * (C + 1)\n",
        "    dp[0] = 0\n",
        "\n",
        "    for i in range(1, C + 1):\n",
        "        for coin in coins:\n",
        "            if i >= coin:\n",
        "                dp[i] = min(dp[i], 1 + dp[i - coin])\n",
        "\n",
        "    return dp[C]\n",
        "\n",
        "coins = [1, 5, 10, 20]\n",
        "C = 100\n",
        "\n",
        "# Try\n",
        "print(ChangeCoins(coins, C))\n"
      ],
      "metadata": {
        "colab": {
          "base_uri": "https://localhost:8080/"
        },
        "id": "QceM3qDCkSuj",
        "outputId": "abcd29e2-d66d-49c1-ef74-2949799f6c91"
      },
      "execution_count": 2,
      "outputs": [
        {
          "output_type": "stream",
          "name": "stdout",
          "text": [
            "5\n"
          ]
        }
      ]
    }
  ]
}