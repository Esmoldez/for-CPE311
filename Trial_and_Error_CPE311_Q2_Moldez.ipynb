{
  "nbformat": 4,
  "nbformat_minor": 0,
  "metadata": {
    "colab": {
      "provenance": [],
      "authorship_tag": "ABX9TyMpfmyA3rYmRU8CWrvxjgsk",
      "include_colab_link": true
    },
    "kernelspec": {
      "name": "python3",
      "display_name": "Python 3"
    },
    "language_info": {
      "name": "python"
    }
  },
  "cells": [
    {
      "cell_type": "markdown",
      "metadata": {
        "id": "view-in-github",
        "colab_type": "text"
      },
      "source": [
        "<a href=\"https://colab.research.google.com/github/Esmoldez/for-CPE311/blob/main/Trial_and_Error_CPE311_Q2_Moldez.ipynb\" target=\"_parent\"><img src=\"https://colab.research.google.com/assets/colab-badge.svg\" alt=\"Open In Colab\"/></a>"
      ]
    },
    {
      "cell_type": "code",
      "source": [
        "def make_change(coins, amount, cache=None):\n",
        "    if cache is None:\n",
        "        cache = {}\n",
        "\n",
        "    # If the amount is already computed, return its value\n",
        "    if amount in cache:\n",
        "        return cache[amount]\n",
        "\n",
        "    # Base case: If amount is 0, no coins are needed\n",
        "    if amount == 0:\n",
        "        return 0, []\n",
        "\n",
        "    # Initialize minimum count to a large value (amount + 1) and best combination as empty\n",
        "    min_count = amount + 1\n",
        "    best_combination = []\n",
        "\n",
        "    # Iterate through each coin denomination\n",
        "    for coin in coins:\n",
        "        if amount >= coin:\n",
        "            count, combination = make_change(coins, amount - coin, cache)\n",
        "            if count + 1 < min_count:\n",
        "                min_count = count + 1\n",
        "                best_combination = combination + [coin]\n",
        "\n",
        "    # Store the computed result in the cache to avoid recomputation\n",
        "    cache[amount] = (min_count, best_combination)\n",
        "    return cache[amount]\n",
        "\n",
        "denomination = [1, 5, 10, 20]\n",
        "\n",
        "# Input: Read the amount from the user\n",
        "bill = int(input(\"Enter amount to make change: \"))\n",
        "\n",
        "# Compute the minimum number of coins and the coins used\n",
        "min_count, used_coins = make_change(denomination, bill)\n",
        "\n",
        "print(\"=\" * 50)\n",
        "print(\" Coin denominations: \", denomination, \"\\n\")\n",
        "print(\" Minimum number of coins needed: \", min_count)\n",
        "print(\" Coins used: \", used_coins)\n",
        "print(\"=\" * 50)\n"
      ],
      "metadata": {
        "colab": {
          "base_uri": "https://localhost:8080/"
        },
        "id": "QceM3qDCkSuj",
        "outputId": "abcd29e2-d66d-49c1-ef74-2949799f6c91"
      },
      "execution_count": null,
      "outputs": [
        {
          "output_type": "stream",
          "name": "stdout",
          "text": [
            "5\n"
          ]
        }
      ]
    }
  ]
}