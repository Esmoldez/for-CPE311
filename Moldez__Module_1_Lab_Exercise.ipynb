{
  "nbformat": 4,
  "nbformat_minor": 0,
  "metadata": {
    "colab": {
      "provenance": [],
      "include_colab_link": true
    },
    "kernelspec": {
      "name": "python3",
      "display_name": "Python 3"
    },
    "language_info": {
      "name": "python"
    },
    "widgets": {
      "application/vnd.jupyter.widget-state+json": {
        "88158f118c7f4fea8f5caf7485ac30c5": {
          "model_module": "@jupyter-widgets/controls",
          "model_name": "IntTextModel",
          "model_module_version": "1.5.0",
          "state": {
            "_dom_classes": [],
            "_model_module": "@jupyter-widgets/controls",
            "_model_module_version": "1.5.0",
            "_model_name": "IntTextModel",
            "_view_count": null,
            "_view_module": "@jupyter-widgets/controls",
            "_view_module_version": "1.5.0",
            "_view_name": "IntTextView",
            "continuous_update": false,
            "description": "Number:",
            "description_tooltip": null,
            "disabled": false,
            "layout": "IPY_MODEL_7094743a44a04c0a8dd22611a3ce3bfb",
            "step": 1,
            "style": "IPY_MODEL_fdaa8f47a7e24131bdebdbecf2d81e7e",
            "value": 4
          }
        },
        "7094743a44a04c0a8dd22611a3ce3bfb": {
          "model_module": "@jupyter-widgets/base",
          "model_name": "LayoutModel",
          "model_module_version": "1.2.0",
          "state": {
            "_model_module": "@jupyter-widgets/base",
            "_model_module_version": "1.2.0",
            "_model_name": "LayoutModel",
            "_view_count": null,
            "_view_module": "@jupyter-widgets/base",
            "_view_module_version": "1.2.0",
            "_view_name": "LayoutView",
            "align_content": null,
            "align_items": null,
            "align_self": null,
            "border": null,
            "bottom": null,
            "display": null,
            "flex": null,
            "flex_flow": null,
            "grid_area": null,
            "grid_auto_columns": null,
            "grid_auto_flow": null,
            "grid_auto_rows": null,
            "grid_column": null,
            "grid_gap": null,
            "grid_row": null,
            "grid_template_areas": null,
            "grid_template_columns": null,
            "grid_template_rows": null,
            "height": null,
            "justify_content": null,
            "justify_items": null,
            "left": null,
            "margin": null,
            "max_height": null,
            "max_width": null,
            "min_height": null,
            "min_width": null,
            "object_fit": null,
            "object_position": null,
            "order": null,
            "overflow": null,
            "overflow_x": null,
            "overflow_y": null,
            "padding": null,
            "right": null,
            "top": null,
            "visibility": null,
            "width": null
          }
        },
        "fdaa8f47a7e24131bdebdbecf2d81e7e": {
          "model_module": "@jupyter-widgets/controls",
          "model_name": "DescriptionStyleModel",
          "model_module_version": "1.5.0",
          "state": {
            "_model_module": "@jupyter-widgets/controls",
            "_model_module_version": "1.5.0",
            "_model_name": "DescriptionStyleModel",
            "_view_count": null,
            "_view_module": "@jupyter-widgets/base",
            "_view_module_version": "1.2.0",
            "_view_name": "StyleView",
            "description_width": ""
          }
        },
        "a903447ff7034aa5bb77509668835386": {
          "model_module": "@jupyter-widgets/controls",
          "model_name": "ButtonModel",
          "model_module_version": "1.5.0",
          "state": {
            "_dom_classes": [],
            "_model_module": "@jupyter-widgets/controls",
            "_model_module_version": "1.5.0",
            "_model_name": "ButtonModel",
            "_view_count": null,
            "_view_module": "@jupyter-widgets/controls",
            "_view_module_version": "1.5.0",
            "_view_name": "ButtonView",
            "button_style": "",
            "description": "Factorial",
            "disabled": false,
            "icon": "",
            "layout": "IPY_MODEL_0f85d53eb6124af281cd6c1ee1965c9d",
            "style": "IPY_MODEL_e4bee04d0e9d49a89727e3547be55669",
            "tooltip": ""
          }
        },
        "0f85d53eb6124af281cd6c1ee1965c9d": {
          "model_module": "@jupyter-widgets/base",
          "model_name": "LayoutModel",
          "model_module_version": "1.2.0",
          "state": {
            "_model_module": "@jupyter-widgets/base",
            "_model_module_version": "1.2.0",
            "_model_name": "LayoutModel",
            "_view_count": null,
            "_view_module": "@jupyter-widgets/base",
            "_view_module_version": "1.2.0",
            "_view_name": "LayoutView",
            "align_content": null,
            "align_items": null,
            "align_self": null,
            "border": null,
            "bottom": null,
            "display": null,
            "flex": null,
            "flex_flow": null,
            "grid_area": null,
            "grid_auto_columns": null,
            "grid_auto_flow": null,
            "grid_auto_rows": null,
            "grid_column": null,
            "grid_gap": null,
            "grid_row": null,
            "grid_template_areas": null,
            "grid_template_columns": null,
            "grid_template_rows": null,
            "height": null,
            "justify_content": null,
            "justify_items": null,
            "left": null,
            "margin": null,
            "max_height": null,
            "max_width": null,
            "min_height": null,
            "min_width": null,
            "object_fit": null,
            "object_position": null,
            "order": null,
            "overflow": null,
            "overflow_x": null,
            "overflow_y": null,
            "padding": null,
            "right": null,
            "top": null,
            "visibility": null,
            "width": null
          }
        },
        "e4bee04d0e9d49a89727e3547be55669": {
          "model_module": "@jupyter-widgets/controls",
          "model_name": "ButtonStyleModel",
          "model_module_version": "1.5.0",
          "state": {
            "_model_module": "@jupyter-widgets/controls",
            "_model_module_version": "1.5.0",
            "_model_name": "ButtonStyleModel",
            "_view_count": null,
            "_view_module": "@jupyter-widgets/base",
            "_view_module_version": "1.2.0",
            "_view_name": "StyleView",
            "button_color": null,
            "font_weight": ""
          }
        },
        "500a6c87494647e6adf2730507340bed": {
          "model_module": "@jupyter-widgets/controls",
          "model_name": "TextareaModel",
          "model_module_version": "1.5.0",
          "state": {
            "_dom_classes": [],
            "_model_module": "@jupyter-widgets/controls",
            "_model_module_version": "1.5.0",
            "_model_name": "TextareaModel",
            "_view_count": null,
            "_view_module": "@jupyter-widgets/controls",
            "_view_module_version": "1.5.0",
            "_view_name": "TextareaView",
            "continuous_update": true,
            "description": "",
            "description_tooltip": null,
            "disabled": false,
            "layout": "IPY_MODEL_d749bb6ca20a4559a91a1cbbc3297a0e",
            "placeholder": "​",
            "rows": 10,
            "style": "IPY_MODEL_a7482170718a48969cb02e015078e4b9",
            "value": "0! = 1\n1! = 1\n2! = 2\n3! = 6\n4! = 24\n"
          }
        },
        "d749bb6ca20a4559a91a1cbbc3297a0e": {
          "model_module": "@jupyter-widgets/base",
          "model_name": "LayoutModel",
          "model_module_version": "1.2.0",
          "state": {
            "_model_module": "@jupyter-widgets/base",
            "_model_module_version": "1.2.0",
            "_model_name": "LayoutModel",
            "_view_count": null,
            "_view_module": "@jupyter-widgets/base",
            "_view_module_version": "1.2.0",
            "_view_name": "LayoutView",
            "align_content": null,
            "align_items": null,
            "align_self": null,
            "border": null,
            "bottom": null,
            "display": null,
            "flex": null,
            "flex_flow": null,
            "grid_area": null,
            "grid_auto_columns": null,
            "grid_auto_flow": null,
            "grid_auto_rows": null,
            "grid_column": null,
            "grid_gap": null,
            "grid_row": null,
            "grid_template_areas": null,
            "grid_template_columns": null,
            "grid_template_rows": null,
            "height": null,
            "justify_content": null,
            "justify_items": null,
            "left": null,
            "margin": null,
            "max_height": null,
            "max_width": null,
            "min_height": null,
            "min_width": null,
            "object_fit": null,
            "object_position": null,
            "order": null,
            "overflow": null,
            "overflow_x": null,
            "overflow_y": null,
            "padding": null,
            "right": null,
            "top": null,
            "visibility": null,
            "width": "50%"
          }
        },
        "a7482170718a48969cb02e015078e4b9": {
          "model_module": "@jupyter-widgets/controls",
          "model_name": "DescriptionStyleModel",
          "model_module_version": "1.5.0",
          "state": {
            "_model_module": "@jupyter-widgets/controls",
            "_model_module_version": "1.5.0",
            "_model_name": "DescriptionStyleModel",
            "_view_count": null,
            "_view_module": "@jupyter-widgets/base",
            "_view_module_version": "1.2.0",
            "_view_name": "StyleView",
            "description_width": ""
          }
        }
      }
    }
  },
  "cells": [
    {
      "cell_type": "markdown",
      "metadata": {
        "id": "view-in-github",
        "colab_type": "text"
      },
      "source": [
        "<a href=\"https://colab.research.google.com/github/Esmoldez/for-CPE311/blob/main/Moldez__Module_1_Lab_Exercise.ipynb\" target=\"_parent\"><img src=\"https://colab.research.google.com/assets/colab-badge.svg\" alt=\"Open In Colab\"/></a>"
      ]
    },
    {
      "cell_type": "markdown",
      "source": [
        "**Student Name:** Moldez, Ericka Sheen C.<br>\n",
        "**Student ID:** 2310233<br>\n",
        "**Course & Section:** CPE 311-CPE22S3 <br>\n",
        "**Submission Date:** 02/20/2025\n",
        "\n",
        "\n"
      ],
      "metadata": {
        "id": "WfT0bibjjiz6"
      }
    },
    {
      "cell_type": "markdown",
      "source": [
        "#Greedy Algorithm\n",
        "Assume that you have an objective function that needs to be optimized (either maximized or minimized) at a given point. A Greedy algorithm makes greedy choices at each step to ensure that the objective function is optimized. The Greedy algorithm has only one shot to compute the optimal solution so that it never goes back and reverses the decision.\n",
        "\n",
        "##When to Use Greedy Algorithms\n",
        "Greedy Algorithms can help you find solutions to a lot of seemingly tough problems. The only problem with them is that you might come up with the correct solution but you might not be able to verify if its the correct one. All the greedy problems share a common property that a local optima can eventually lead to a global minima without reconsidering the set of choices already considered.\n",
        "\n",
        "###Sample Problems:\n",
        "1. Lecture Scheduling Problem\n",
        "2. Student Enrollment Problem"
      ],
      "metadata": {
        "id": "n0iTchcu2twI"
      }
    },
    {
      "cell_type": "markdown",
      "source": [
        "#Brute Force Algorithm\n",
        "Brute Force Algorithms are exactly what they sound like – straightforward methods of solving a problem that rely on sheer computing power and trying every possibility rather than advanced techniques to improve efficiency. For example, imagine you have a small padlock with 4 digits, each from 0-9.\n",
        "\n",
        "###Sample Problems:\n",
        "- Solve the same given problems using Brute Force algorithm."
      ],
      "metadata": {
        "id": "Ex0cdeur3s5_"
      }
    },
    {
      "cell_type": "markdown",
      "source": [
        "#Dynamic Programming\n",
        "Dynamic Programming(DP) is an algorithmic technique for solving an optimization problem by breaking it down into simpler subproblems and utilizing the fact that the optimal solution to the overall problem depends upon the optimal solution to the subproblems."
      ],
      "metadata": {
        "id": "tAdnaN3y27iH"
      }
    },
    {
      "cell_type": "markdown",
      "source": [
        "###Top-Down Approach with Memoization\n",
        "Whenever we solve a subproblem, we cache its result so that we don’t end up solving it repeatedly if it’s called multiple times. This technique of storing the results of the previously solved subproblems is called Memoization.\n",
        "\n",
        "In memoization, we solve the bigger problem by recursively finding the solution to the subproblems. It is a top-down approach."
      ],
      "metadata": {
        "id": "NyDGniz3LZjk"
      }
    },
    {
      "cell_type": "code",
      "source": [
        "#Implementation of Fibonacci Series using Memoization\n",
        "\"\"\" The Fibonacci Series is a series of numbers in which each number\n",
        "    is the sum of the preceding two numbers.\n",
        "    By definition, the first two numbers are 0 and 1.\n",
        "\n",
        "    Implement with the following steps:\n",
        "    - Declare function with parameters: Number N and Dictionary Memo.\n",
        "    - If n equals 1, return 0\n",
        "    - If n equals 2, return 1\n",
        "    - If current element is not in memo, add to memoy by recursive call for previous function and add. \"\"\"\n",
        "\n",
        "# Fibonacci Memoization\n",
        "def fibonacci(n, memo):\n",
        "    if n == 1:\n",
        "        return 0\n",
        "    if n == 2:\n",
        "        return 1\n",
        "\n",
        "    # If not stored, compute and store\n",
        "    if n not in memo:\n",
        "        memo[n] = fibonacci(n - 1, memo) + fibonacci(n - 2, memo)\n",
        "\n",
        "    return memo[n]\n",
        "\n",
        "num = int(input(\"Enter a number: \"))\n",
        "\n",
        "# Dictionary to store computed factorials\n",
        "memo_dict = {}\n",
        "\n",
        "for i in range(1, num + 1):\n",
        "    print(fibonacci(i, memo_dict))\n",
        "\n"
      ],
      "metadata": {
        "id": "8_TsrouUJQSF",
        "colab": {
          "base_uri": "https://localhost:8080/"
        },
        "outputId": "f157bfe0-8cf2-4024-d428-7fd2dd4f7225"
      },
      "execution_count": null,
      "outputs": [
        {
          "output_type": "stream",
          "name": "stdout",
          "text": [
            "Enter a number: 4\n",
            "0\n",
            "1\n",
            "1\n",
            "2\n"
          ]
        }
      ]
    },
    {
      "cell_type": "code",
      "source": [
        "# Factorial Memoization\n",
        "def factMemo(n, memo):\n",
        "    if n == 0:\n",
        "        return 1\n",
        "    # If not stored, compute and store\n",
        "    if n not in memo:\n",
        "        memo[n] = n * factMemo(n - 1, memo)\n",
        "\n",
        "    return memo[n]\n",
        "\n",
        "num = int(input(\"Enter a number: \"))\n",
        "\n",
        "memo_dict = {}\n",
        "\n",
        "for i in range(num + 1):\n",
        "    print(factMemo(i, memo_dict))\n"
      ],
      "metadata": {
        "colab": {
          "base_uri": "https://localhost:8080/"
        },
        "id": "FR_Y6MEVTwoF",
        "outputId": "309cd195-774f-4195-f978-330282cf8769"
      },
      "execution_count": null,
      "outputs": [
        {
          "output_type": "stream",
          "name": "stdout",
          "text": [
            "Enter a number: 4\n",
            "1\n",
            "1\n",
            "2\n",
            "6\n",
            "24\n"
          ]
        }
      ]
    },
    {
      "cell_type": "code",
      "source": [
        "# Factorial Tabulation\n",
        "\n",
        "def factTab(n):\n",
        "    tb = [1]\n",
        "    for i in range(1, n + 1):\n",
        "        tb.append(tb[-1] * i)\n",
        "    return tb\n",
        "\n",
        "\n",
        "num = int(input(\"Enter a number: \"))\n",
        "\n",
        "print(factTab(num))"
      ],
      "metadata": {
        "colab": {
          "base_uri": "https://localhost:8080/"
        },
        "id": "VAbXbe9kU0pu",
        "outputId": "a93ae0cc-89de-4319-bc90-1cda6067460c"
      },
      "execution_count": null,
      "outputs": [
        {
          "output_type": "stream",
          "name": "stdout",
          "text": [
            "Enter a number: 4\n",
            "[1, 1, 2, 6, 24]\n"
          ]
        }
      ]
    },
    {
      "cell_type": "code",
      "source": [
        "'''\n",
        "CAN BE IMPROVED FOR FUTURE REFERENCE (DRAFTS)\n",
        "\n",
        "This document is a draft and remains open for future refinements\n",
        "and enhancements. Adjustments may be made as necessary to improve\n",
        "clarity, efficiency, and overall effectiveness.\n",
        "\n",
        "It is not claimed as entirely original work but rather a compilation\n",
        "of various online resources, carefully integrated and refined for its\n",
        "intended purpose.\n",
        "\n",
        "This part of document is provided for reference and future development.\n",
        "\n",
        "import ipywidgets as widgets\n",
        "from IPython.display import display, clear_output\n",
        "\n",
        "# Factorial using memoization\n",
        "def fact_memo(n, memo={}):\n",
        "    if n == 0:\n",
        "        return 1  # Base case: 0! = 1\n",
        "    if n not in memo:  # If not stored, compute and store\n",
        "        memo[n] = n * fact_memo(n - 1, memo)\n",
        "    return memo[n]\n",
        "\n",
        "# GUI input and display output\n",
        "def calculate_factorial(_):\n",
        "    clear_output(wait=True)\n",
        "    display(num_input, calc_button, output_area)\n",
        "    num = num_input.value\n",
        "    if num < 0:\n",
        "        output_area.value = \"Error: Enter a non-negative integer.\"\n",
        "        return\n",
        "\n",
        "    result = \"\"\n",
        "    for i in range(num + 1):\n",
        "        result += f\"{i}! = {fact_memo(i)}\\n\"\n",
        "    output_area.value = result\n",
        "\n",
        "# Widgets\n",
        "num_input = widgets.IntText(value=5, description='Number:')\n",
        "calc_button = widgets.Button(description='Factorial')\n",
        "output_area = widgets.Textarea(rows=10, layout=widgets.Layout(width='50%'))\n",
        "\n",
        "calc_button.on_click(calculate_factorial)\n",
        "\n",
        "display(num_input, calc_button, output_area)\n",
        "'''\n"
      ],
      "metadata": {
        "colab": {
          "base_uri": "https://localhost:8080/",
          "height": 245,
          "referenced_widgets": [
            "88158f118c7f4fea8f5caf7485ac30c5",
            "7094743a44a04c0a8dd22611a3ce3bfb",
            "fdaa8f47a7e24131bdebdbecf2d81e7e",
            "a903447ff7034aa5bb77509668835386",
            "0f85d53eb6124af281cd6c1ee1965c9d",
            "e4bee04d0e9d49a89727e3547be55669",
            "500a6c87494647e6adf2730507340bed",
            "d749bb6ca20a4559a91a1cbbc3297a0e",
            "a7482170718a48969cb02e015078e4b9"
          ]
        },
        "id": "YMfOCQ8PdUyS",
        "outputId": "8c2c4f1a-6c0f-424d-faf9-c3f80758d25c"
      },
      "execution_count": null,
      "outputs": [
        {
          "output_type": "display_data",
          "data": {
            "text/plain": [
              "IntText(value=4, description='Number:')"
            ],
            "application/vnd.jupyter.widget-view+json": {
              "version_major": 2,
              "version_minor": 0,
              "model_id": "88158f118c7f4fea8f5caf7485ac30c5"
            }
          },
          "metadata": {}
        },
        {
          "output_type": "display_data",
          "data": {
            "text/plain": [
              "Button(description='Factorial', style=ButtonStyle())"
            ],
            "application/vnd.jupyter.widget-view+json": {
              "version_major": 2,
              "version_minor": 0,
              "model_id": "a903447ff7034aa5bb77509668835386"
            }
          },
          "metadata": {}
        },
        {
          "output_type": "display_data",
          "data": {
            "text/plain": [
              "Textarea(value='', layout=Layout(width='50%'), rows=10)"
            ],
            "application/vnd.jupyter.widget-view+json": {
              "version_major": 2,
              "version_minor": 0,
              "model_id": "500a6c87494647e6adf2730507340bed"
            }
          },
          "metadata": {}
        }
      ]
    },
    {
      "cell_type": "markdown",
      "source": [
        "###Bottom-Up Approach with Tabulation\n",
        "Tabulation is the opposite of the top-down approach and does not involve recursion. In this approach, we solve the problem “bottom-up”. This means that the subproblems are solved first and are then combined to form the solution to the original problem.\n",
        "\n",
        "This is achieved by filling up a table. Based on the results of the table, the solution to the original problem is computed."
      ],
      "metadata": {
        "id": "NrcB-ztP9ZPI"
      }
    },
    {
      "cell_type": "code",
      "source": [
        "#Implementation of Fibonacci Series using Tabulation\n",
        "\"\"\" Fibonacci Series can be implemented using Tabulation using the following steps:\n",
        "    - Declare the function and take the number whose Fibonacci Series is to be printed.\n",
        "    - Initialize the list and input the values 0 and 1 in it.\n",
        "    - Iterate over the range of 2 to n+1.\n",
        "    - Append the list with the sum of the previous two values of the list.\n",
        "    - Return the list as output. \"\"\"\n",
        "\n",
        "#Bottom-Up approach Factorial using Tabulation\n",
        "\n",
        "def fibTab(n):\n",
        "    tb = [0, 1]\n",
        "    for i in range(2, n + 1):\n",
        "        tb.append(tb[i - 1] + tb[i - 2])\n",
        "    return tb\n",
        "\n",
        "f = int(input(\"Enter a number: \"))\n",
        "print(\"\\n*** Fibonacci Sequence ***\")\n",
        "print(fibTab(f))\n",
        "print(\"**************************\\n\")\n",
        "\n",
        "\n",
        "def factTab(n):\n",
        "    tb = [1]\n",
        "    for i in range(1, n + 1):\n",
        "        tb.append(tb[-1] * i)\n",
        "    return tb\n",
        "\n",
        "num = int(input(\"Enter a number: \"))\n",
        "print(\"\\n*** Factorial Sequence ***\")\n",
        "print(factTab(num))\n",
        "print(\"**************************\\n\")\n"
      ],
      "metadata": {
        "id": "Skjbt78O9ele",
        "colab": {
          "base_uri": "https://localhost:8080/"
        },
        "outputId": "e7165460-7029-4b91-e720-1b3f95a08437"
      },
      "execution_count": 1,
      "outputs": [
        {
          "output_type": "stream",
          "name": "stdout",
          "text": [
            "Enter a number: 4\n",
            "\n",
            "*** Fibonacci Sequence ***\n",
            "[0, 1, 1, 2, 3]\n",
            "**************************\n",
            "\n",
            "Enter a number: 2\n",
            "\n",
            "*** Factorial Sequence ***\n",
            "[1, 1, 2]\n",
            "**************************\n",
            "\n"
          ]
        }
      ]
    },
    {
      "cell_type": "markdown",
      "source": [
        "#Answers"
      ],
      "metadata": {
        "id": "crF2HdqCN64W"
      }
    },
    {
      "cell_type": "code",
      "source": [
        "#Lecture Scheduling Problem\n",
        "\"\"\" You are given a set of N schedules.\n",
        "    Schedule will be defined with: course code, units, start, duration.\n",
        "    Select the maximum set of lectures to be held.\n",
        "    No schedules must overlap. \"\"\"\n",
        "\n",
        "class Lecture(object):\n",
        "  def __init__(self, c, u, s, d):\n",
        "    self.courseCode = c\n",
        "    self.units = u\n",
        "    self.startTime = s\n",
        "    self.duration = d\n",
        "\n",
        "  def getUnits(self):\n",
        "    return self.units\n",
        "\n",
        "  def getDuration(self):\n",
        "    return self.duration\n",
        "\n",
        "  def getStart(self):\n",
        "    return self.startTime\n",
        "\n",
        "  def density(self):\n",
        "    return self.getUnits()/self.getDuration()\n",
        "\n",
        "  def __str__(self):\n",
        "    return self.courseCode + ': <' + str(self.units) + ', ' + str(self.startTime) + ', ' + str(self.duration) + '>'"
      ],
      "metadata": {
        "id": "h5wXf7I_3PKR"
      },
      "execution_count": null,
      "outputs": []
    },
    {
      "cell_type": "code",
      "source": [
        "def buildSched(codes, units, start, duration):\n",
        "  schedule = []\n",
        "  for i in range(len(start)):\n",
        "    schedule.append(Lecture(codes[i], units[i], start[i], duration[i]))\n",
        "  return schedule"
      ],
      "metadata": {
        "id": "KbtYBVt7POFj"
      },
      "execution_count": null,
      "outputs": []
    },
    {
      "cell_type": "code",
      "source": [
        "def greedy(classes, maxHours, keyFunction):\n",
        "  classesCopy = sorted(classes, key = keyFunction, reverse = False)\n",
        "  result = []\n",
        "\n",
        "  totalUnits, totalHours = 0.0, 0.0\n",
        "  for i in range(len(classes)):\n",
        "    if(totalHours + classesCopy[i].getDuration()) <= maxHours:\n",
        "      result.append(classesCopy[i])\n",
        "      totalHours += classesCopy[i].getDuration()\n",
        "      totalUnits += classesCopy[i].getUnits()\n",
        "  return (result, totalUnits)"
      ],
      "metadata": {
        "id": "DhsN3wqfPgBY"
      },
      "execution_count": null,
      "outputs": []
    },
    {
      "cell_type": "code",
      "source": [
        "def testGreedy(classes, constraint, keyFunction):\n",
        "  taken, val = greedy(classes, constraint, keyFunction)\n",
        "  print('Total units of classes taken = ', val)\n",
        "  for item in taken:\n",
        "    print(' ', item)"
      ],
      "metadata": {
        "id": "izVtHvhQSVzT"
      },
      "execution_count": null,
      "outputs": []
    },
    {
      "cell_type": "code",
      "source": [
        "def testGreedys(ClassCodes, maxHours):\n",
        "    print('Use greedy by value to allocate', maxHours,          'units')\n",
        "    testGreedy(ClassCodes, maxHours, Lecture.getUnits)\n",
        "    print('\\nUse greedy by cost to allocate', maxHours,          'units')\n",
        "    testGreedy(ClassCodes, maxHours, Lecture.getDuration)\n",
        "    print('\\nUse greedy by density to allocate', maxHours,          'units')\n",
        "    testGreedy(ClassCodes, maxHours, Lecture.density)"
      ],
      "metadata": {
        "id": "MTaJ-uLESnX2"
      },
      "execution_count": null,
      "outputs": []
    },
    {
      "cell_type": "code",
      "source": [
        "courseCode = ['CPE001', 'CPE002', 'CPE003']\n",
        "units = [2, 3, 4]\n",
        "startTime = [9, 2, 3]\n",
        "Duration = [2, 2, 3]\n",
        "enrolledClasses = buildSched(courseCode, units, startTime, Duration)\n",
        "testGreedys(enrolledClasses, 5)"
      ],
      "metadata": {
        "colab": {
          "base_uri": "https://localhost:8080/"
        },
        "id": "zFXivAOETE9l",
        "outputId": "cf47fc10-43dc-4349-cf2e-41e1137d1fe6"
      },
      "execution_count": null,
      "outputs": [
        {
          "output_type": "stream",
          "name": "stdout",
          "text": [
            "Use greedy by value to allocate 5 units\n",
            "Total units of classes taken =  5.0\n",
            "  CPE001: <2, 9, 2>\n",
            "  CPE002: <3, 2, 2>\n",
            "\n",
            "Use greedy by cost to allocate 5 units\n",
            "Total units of classes taken =  5.0\n",
            "  CPE001: <2, 9, 2>\n",
            "  CPE002: <3, 2, 2>\n",
            "\n",
            "Use greedy by density to allocate 5 units\n",
            "Total units of classes taken =  6.0\n",
            "  CPE001: <2, 9, 2>\n",
            "  CPE003: <4, 3, 3>\n"
          ]
        }
      ]
    },
    {
      "cell_type": "code",
      "source": [
        "#Student Enrollment Problem\n",
        "\"\"\" You are given a set of N courses.\n",
        "    Courses will be defined as (code, units).\n",
        "    Select the maximum set of courses a student can hve.\n",
        "    Maximum units allowed is based on input with a max of 24\n",
        "    default of 18. \"\"\"\n",
        "\n"
      ],
      "metadata": {
        "id": "wK951cvf87l2"
      },
      "execution_count": null,
      "outputs": []
    },
    {
      "cell_type": "code",
      "source": [
        "# Function to implement Fibonacci Series\n",
        "def fibMemo(n, memo):\n",
        "    if n == 1:\n",
        "        return 0\n",
        "    if n == 2:\n",
        "        return 1\n",
        "    if not n in memo:\n",
        "        memo[n] = fibMemo(n-1, memo) + fibMemo(n-2, memo)\n",
        "    return memo[n]\n",
        "\n",
        "tempDict = {}\n",
        "fibMemo(6, tempDict)\n",
        "\n",
        "#Printing the elements of the Fibonacci Series\n",
        "print(\"0\")\n",
        "print(\"1\")\n",
        "for element in tempDict.values():\n",
        "    print(element)\n",
        "\n"
      ],
      "metadata": {
        "id": "F_ag3nClZsL9",
        "colab": {
          "base_uri": "https://localhost:8080/"
        },
        "outputId": "fa86e326-daa2-4bb0-e367-08d141372a7c"
      },
      "execution_count": null,
      "outputs": [
        {
          "output_type": "stream",
          "name": "stdout",
          "text": [
            "0\n",
            "1\n",
            "1\n",
            "2\n",
            "3\n",
            "5\n"
          ]
        }
      ]
    },
    {
      "cell_type": "code",
      "source": [
        "# Function to implement Fibonacci Series\n",
        "def fibTab(n):\n",
        "    tb = [0, 1]\n",
        "    for i in range(2, n+1):\n",
        "      tb.append(tb[i-1] + tb[i-2])\n",
        "    return tb\n",
        "\n",
        "print(fibTab(6))"
      ],
      "metadata": {
        "id": "RJkOBPmrZv2W"
      },
      "execution_count": null,
      "outputs": []
    }
  ]
}