{
 "cells": [
  {
   "cell_type": "code",
   "execution_count": 17,
   "id": "c44da43f-4fe6-43e0-ae9c-434943a4715e",
   "metadata": {},
   "outputs": [
    {
     "ename": "IndentationError",
     "evalue": "expected an indented block after 'if' statement on line 9 (2361667388.py, line 12)",
     "output_type": "error",
     "traceback": [
      "\u001b[1;36m  Cell \u001b[1;32mIn[17], line 12\u001b[1;36m\u001b[0m\n\u001b[1;33m    coins = [1,5,10,20]\u001b[0m\n\u001b[1;37m    ^\u001b[0m\n\u001b[1;31mIndentationError\u001b[0m\u001b[1;31m:\u001b[0m expected an indented block after 'if' statement on line 9\n"
     ]
    }
   ],
   "source": [
    "def ChangeCoins(coins, C):\n",
    "    dp = [float('inf')] * (C+1)\n",
    "    dp[0] = 0\n",
    "for i in range (1, C + 1):\n",
    "    for coin in coins:\n",
    "        if i >= coin:\n",
    "            dp[i] = min(dp[i], 1 + dp[i - coin])\n",
    "        return dp[0]\n",
    "if dp[C]:\n",
    "\n",
    "#try\n",
    "coins = [1,5,10,20]\n",
    "C = 100\n",
    "print(ChangeCoins(coins, C))"
   ]
  },
  {
   "cell_type": "code",
   "execution_count": null,
   "id": "54c771ba-5f51-4a6e-be40-e126acae9496",
   "metadata": {},
   "outputs": [],
   "source": []
  }
 ],
 "metadata": {
  "kernelspec": {
   "display_name": "Python 3 (ipykernel)",
   "language": "python",
   "name": "python3"
  },
  "language_info": {
   "codemirror_mode": {
    "name": "ipython",
    "version": 3
   },
   "file_extension": ".py",
   "mimetype": "text/x-python",
   "name": "python",
   "nbconvert_exporter": "python",
   "pygments_lexer": "ipython3",
   "version": "3.12.4"
  }
 },
 "nbformat": 4,
 "nbformat_minor": 5
}
