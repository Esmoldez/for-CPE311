{
 "cells": [
  {
   "cell_type": "code",
   "execution_count": 11,
   "id": "c8cb6d04-149d-4ee3-ba4f-49f62b26b9fd",
   "metadata": {},
   "outputs": [
    {
     "ename": "SyntaxError",
     "evalue": "invalid non-printable character U+00A0 (1457266681.py, line 2)",
     "output_type": "error",
     "traceback": [
      "\u001b[1;36m  Cell \u001b[1;32mIn[11], line 2\u001b[1;36m\u001b[0m\n\u001b[1;33m    dp = [Float('inf')]* (C+1)\u001b[0m\n\u001b[1;37m    ^\u001b[0m\n\u001b[1;31mSyntaxError\u001b[0m\u001b[1;31m:\u001b[0m invalid non-printable character U+00A0\n"
     ]
    }
   ],
   "source": [
    "def ChangeCoins(coins, C):\n",
    "   dp = [Float('inf')]* (C+1)\n",
    "   dp[0] = 0\n",
    "for i in range (1, C + 1): \n",
    "    for coin in coins:\n",
    "        if i >= coin:\n",
    "            dp[i] = min(dp[i], 1 + dp[i - coin])\n",
    "    return dp[0] \n",
    "if dp[C]: \n",
    "     \n",
    "\n",
    "#try\n",
    "coins = [1,5,10,20]\n",
    "C = 100\n",
    "print(ChangeCoins(coins, C)) "
   ]
  }
 ],
 "metadata": {
  "kernelspec": {
   "display_name": "Python 3 (ipykernel)",
   "language": "python",
   "name": "python3"
  },
  "language_info": {
   "codemirror_mode": {
    "name": "ipython",
    "version": 3
   },
   "file_extension": ".py",
   "mimetype": "text/x-python",
   "name": "python",
   "nbconvert_exporter": "python",
   "pygments_lexer": "ipython3",
   "version": "3.12.4"
  }
 },
 "nbformat": 4,
 "nbformat_minor": 5
}
