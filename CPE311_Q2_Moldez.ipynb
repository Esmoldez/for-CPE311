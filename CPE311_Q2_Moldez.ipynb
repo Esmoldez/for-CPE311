{
 "cells": [
  {
   "cell_type": "code",
   "execution_count": 23,
   "id": "c44da43f-4fe6-43e0-ae9c-434943a4715e",
   "metadata": {},
   "outputs": [
    {
     "ename": "NameError",
     "evalue": "name 'C' is not defined",
     "output_type": "error",
     "traceback": [
      "\u001b[1;31m---------------------------------------------------------------------------\u001b[0m",
      "\u001b[1;31mNameError\u001b[0m                                 Traceback (most recent call last)",
      "Cell \u001b[1;32mIn[23], line 4\u001b[0m\n\u001b[0;32m      2\u001b[0m     dp \u001b[38;5;241m=\u001b[39m [\u001b[38;5;28mint\u001b[39m] \u001b[38;5;241m*\u001b[39m (C\u001b[38;5;241m+\u001b[39m\u001b[38;5;241m1\u001b[39m)\n\u001b[0;32m      3\u001b[0m     dp[\u001b[38;5;241m0\u001b[39m] \u001b[38;5;241m=\u001b[39m \u001b[38;5;241m0\u001b[39m\n\u001b[1;32m----> 4\u001b[0m \u001b[38;5;28;01mfor\u001b[39;00m i \u001b[38;5;129;01min\u001b[39;00m \u001b[38;5;28mrange\u001b[39m (\u001b[38;5;241m1\u001b[39m, C \u001b[38;5;241m+\u001b[39m \u001b[38;5;241m1\u001b[39m):\n\u001b[0;32m      5\u001b[0m     \u001b[38;5;28;01mfor\u001b[39;00m coin \u001b[38;5;129;01min\u001b[39;00m coins:\n\u001b[0;32m      6\u001b[0m         \u001b[38;5;28;01mif\u001b[39;00m i \u001b[38;5;241m>\u001b[39m\u001b[38;5;241m=\u001b[39m coin:\n",
      "\u001b[1;31mNameError\u001b[0m: name 'C' is not defined"
     ]
    }
   ],
   "source": [
    "def ChangeCoins(coins, C):\n",
    "    dp = [int] * (C+1)\n",
    "    dp[0] = 0\n",
    "for i in range (1, C + 1):\n",
    "    for coin in coins:\n",
    "        if i >= coin:\n",
    "            dp[i] = min(dp[i], 1 + dp[i - coin])\n",
    "return dp[0]\n",
    "if dp[C]:\n",
    "\n",
    "#try\n",
    "    coins = [1,5,10,20]\n",
    "    C = 100\n",
    "    print(ChangeCoins(coins, C))"
   ]
  },
  {
   "cell_type": "code",
   "execution_count": null,
   "id": "54c771ba-5f51-4a6e-be40-e126acae9496",
   "metadata": {},
   "outputs": [],
   "source": []
  }
 ],
 "metadata": {
  "kernelspec": {
   "display_name": "Python 3 (ipykernel)",
   "language": "python",
   "name": "python3"
  },
  "language_info": {
   "codemirror_mode": {
    "name": "ipython",
    "version": 3
   },
   "file_extension": ".py",
   "mimetype": "text/x-python",
   "name": "python",
   "nbconvert_exporter": "python",
   "pygments_lexer": "ipython3",
   "version": "3.12.4"
  }
 },
 "nbformat": 4,
 "nbformat_minor": 5
}
