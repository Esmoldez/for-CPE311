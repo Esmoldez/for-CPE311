def ChangeCoins(coins, C):
    dp = [float('inf')] * (C+1)
    dp[0] = 0
for i in range (1, C + 1):
    for coin in coins:
        if i >= coin:
            dp[i] = min(dp[i], 1 + dp[i - coin])
        return dp[0]
if dp[C]:

#try
coins = [1,5,10,20]
C = 100
print(ChangeCoins(coins, C))
