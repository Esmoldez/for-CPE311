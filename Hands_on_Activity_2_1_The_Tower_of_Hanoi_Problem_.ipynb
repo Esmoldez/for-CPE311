{
  "nbformat": 4,
  "nbformat_minor": 0,
  "metadata": {
    "colab": {
      "provenance": [],
      "include_colab_link": true
    },
    "kernelspec": {
      "name": "python3",
      "display_name": "Python 3"
    },
    "language_info": {
      "name": "python"
    }
  },
  "cells": [
    {
      "cell_type": "markdown",
      "metadata": {
        "id": "view-in-github",
        "colab_type": "text"
      },
      "source": [
        "<a href=\"https://colab.research.google.com/github/Esmoldez/for-CPE311/blob/main/Hands_on_Activity_2_1_The_Tower_of_Hanoi_Problem_.ipynb\" target=\"_parent\"><img src=\"https://colab.research.google.com/assets/colab-badge.svg\" alt=\"Open In Colab\"/></a>"
      ]
    },
    {
      "cell_type": "code",
      "source": [
        "#where A is source, B is auxiliary and C is Destination\n",
        "def tower_of_hanoi(n, source, auxiliary, destination):\n",
        "    # If only one disk, move it directly\n",
        "    if n == 1:\n",
        "        print(f\"Move disk 1 from {source} to {destination}\")\n",
        "        return\n",
        "\n",
        "    # Move (n-1) disks to auxiliary, keeping destination as temp\n",
        "    tower_of_hanoi(n-1, source, destination, auxiliary)\n",
        "\n",
        "    # Move the largest disk to destination\n",
        "    print(f\"Move disk {n} from {source} to {destination}\")\n",
        "\n",
        "    # Move (n-1) disks from auxiliary to destination\n",
        "    tower_of_hanoi(n-1, auxiliary, source, destination)\n",
        "\n",
        "#try using \"n = \"\n",
        "n = 3\n",
        "tower_of_hanoi(n, 'A', 'B', 'C')\n",
        "\n"
      ],
      "metadata": {
        "colab": {
          "base_uri": "https://localhost:8080/"
        },
        "id": "w8duXB6lvc7i",
        "outputId": "9ac5c2bf-3c00-45e8-9261-b7a777f3b141"
      },
      "execution_count": null,
      "outputs": [
        {
          "output_type": "stream",
          "name": "stdout",
          "text": [
            "Move disk 1 from A to C\n",
            "Move disk 2 from A to B\n",
            "Move disk 1 from C to B\n",
            "Move disk 3 from A to C\n",
            "Move disk 1 from B to A\n",
            "Move disk 2 from B to C\n",
            "Move disk 1 from A to C\n"
          ]
        }
      ]
    },
    {
      "cell_type": "code",
      "source": [
        "def hanoi_iter(n):\n",
        "    rods = {\"A\": list(range(n, 0, -1)), \"B\": [], \"C\": []}\n",
        "    total_moves = (2 ** n) - 1\n",
        "    source, auxiliary, destination = \"A\", \"B\", \"C\"\n",
        "\n",
        "    # If n is even, swap auxiliary and destination rods to keep the correct move order\n",
        "    if n % 2 == 0:\n",
        "        auxiliary, destination = destination, auxiliary\n",
        "\n",
        "    for move in range(1, total_moves + 1):\n",
        "        if move % 3 == 1:  # Move between source and destination\n",
        "            from_rod, to_rod = source, destination\n",
        "        elif move % 3 == 2:  # Move between source and auxiliary\n",
        "            from_rod, to_rod = source, auxiliary\n",
        "        else:  # Move between auxiliary and destination\n",
        "            from_rod, to_rod = auxiliary, destination\n",
        "        if not rods[from_rod]:\n",
        "            from_rod, to_rod = to_rod, from_rod  # Swap if source rod is empty\n",
        "        elif rods[to_rod] and rods[from_rod][-1] > rods[to_rod][-1]:\n",
        "            from_rod, to_rod = to_rod, from_rod  # Ensure movement order\n",
        "\n",
        "\n",
        "        disk = rods[from_rod].pop()\n",
        "        rods[to_rod].append(disk)\n",
        "        print(f\"Move disk {disk} from {from_rod} to {to_rod}\")\n",
        "\n",
        "\n",
        "n = 3\n",
        "hanoi_iter(n)\n"
      ],
      "metadata": {
        "colab": {
          "base_uri": "https://localhost:8080/"
        },
        "id": "pCT2ePYJb-hH",
        "outputId": "5b098830-c0f6-4e2a-c912-f74633342ea6"
      },
      "execution_count": 7,
      "outputs": [
        {
          "output_type": "stream",
          "name": "stdout",
          "text": [
            "Move disk 1 from A to C\n",
            "Move disk 2 from A to B\n",
            "Move disk 1 from C to B\n",
            "Move disk 3 from A to C\n",
            "Move disk 1 from B to A\n",
            "Move disk 2 from B to C\n",
            "Move disk 1 from A to C\n"
          ]
        }
      ]
    },
    {
      "cell_type": "markdown",
      "source": [
        "**Loop** <br>\n",
        "First, I initialize the three rods named A, B, and C. Rod A will start with disks arranged in descending order from (n)\n",
        " down to 1. If the number of disks (n) is even, we swap the auxiliary (helper rod) and destination (end rod) rods. Then, I use a for loop to iterate from 1 to the total number of moves. Depending on the move number, it determines which disk should be moved between the rods. The elif statements ensure that the moves are valid by checking if the from_rod is empty, in which case the rods will be swapped. If the disk on the to_rod is smaller than the disk on the from_rod, the rods will also be swapped."
      ],
      "metadata": {
        "id": "ko1nxcRcqU_6"
      }
    },
    {
      "cell_type": "markdown",
      "source": [
        "**Supplementary Activity**\n",
        "I progressively learned the techniques needed to complete the Tower of Hanoi job piece by piece using both recursion and loops. The iterative technique provided an efficient way to move disks in a systematic way, while recursion helped to divide the task into smaller components. My key takeaways were to break down complex problems and it follows correct order."
      ],
      "metadata": {
        "id": "3A0nW2VBCzXN"
      }
    }
  ]
}