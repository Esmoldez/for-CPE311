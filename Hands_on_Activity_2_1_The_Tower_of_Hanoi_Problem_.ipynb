{
  "nbformat": 4,
  "nbformat_minor": 0,
  "metadata": {
    "colab": {
      "provenance": [],
      "authorship_tag": "ABX9TyMM4FbcoFHJ63/Mtx4h91ek",
      "include_colab_link": true
    },
    "kernelspec": {
      "name": "python3",
      "display_name": "Python 3"
    },
    "language_info": {
      "name": "python"
    }
  },
  "cells": [
    {
      "cell_type": "markdown",
      "metadata": {
        "id": "view-in-github",
        "colab_type": "text"
      },
      "source": [
        "<a href=\"https://colab.research.google.com/github/Esmoldez/for-CPE311/blob/main/Hands_on_Activity_2_1_The_Tower_of_Hanoi_Problem_.ipynb\" target=\"_parent\"><img src=\"https://colab.research.google.com/assets/colab-badge.svg\" alt=\"Open In Colab\"/></a>"
      ]
    },
    {
      "cell_type": "code",
      "source": [
        "# Function to solve the Tower of Hanoi problem\n",
        "def tower_of_hanoi(n, source, auxiliary, destination):\n",
        "    if n == 1:\n",
        "        print(f\"Move disk 1 from {source} to {destination}\")\n",
        "        return\n",
        "    # Step 1: Move the top n-1 disks from source to auxiliary peg\n",
        "    tower_of_hanoi(n-1, source, destination, auxiliary)\n",
        "\n",
        "    # Step 2: Move the nth (largest) disk from source to destination peg\n",
        "    print(f\"Move disk {n} from {source} to {destination}\")\n",
        "\n",
        "    # Step 3: Move the n-1 disks from auxiliary to destination peg\n",
        "    tower_of_hanoi(n-1, auxiliary, source, destination)\n",
        "\n",
        "# Test the function with 3 disks\n",
        "n = 3\n",
        "tower_of_hanoi(n, 'A', 'B', 'C')\n"
      ],
      "metadata": {
        "colab": {
          "base_uri": "https://localhost:8080/"
        },
        "id": "w8duXB6lvc7i",
        "outputId": "9ac5c2bf-3c00-45e8-9261-b7a777f3b141"
      },
      "execution_count": 1,
      "outputs": [
        {
          "output_type": "stream",
          "name": "stdout",
          "text": [
            "Move disk 1 from A to C\n",
            "Move disk 2 from A to B\n",
            "Move disk 1 from C to B\n",
            "Move disk 3 from A to C\n",
            "Move disk 1 from B to A\n",
            "Move disk 2 from B to C\n",
            "Move disk 1 from A to C\n"
          ]
        }
      ]
    }
  ]
}