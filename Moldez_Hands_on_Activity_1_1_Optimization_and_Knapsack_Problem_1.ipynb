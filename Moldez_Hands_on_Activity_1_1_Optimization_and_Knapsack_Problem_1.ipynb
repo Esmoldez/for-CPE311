{
  "cells": [
    {
      "cell_type": "markdown",
      "metadata": {
        "id": "view-in-github",
        "colab_type": "text"
      },
      "source": [
        "<a href=\"https://colab.research.google.com/github/Esmoldez/for-CPE311/blob/main/Moldez_Hands_on_Activity_1_1_Optimization_and_Knapsack_Problem_1.ipynb\" target=\"_parent\"><img src=\"https://colab.research.google.com/assets/colab-badge.svg\" alt=\"Open In Colab\"/></a>"
      ]
    },
    {
      "cell_type": "markdown",
      "id": "193686ba",
      "metadata": {
        "id": "193686ba"
      },
      "source": [
        "# Hands-on Activity 1.1 | Optimization and Knapsack Problem"
      ]
    },
    {
      "cell_type": "markdown",
      "id": "8d87e989",
      "metadata": {
        "id": "8d87e989"
      },
      "source": [
        "#### Objective(s):\n",
        "\n",
        "This activity aims to demonstrate how to apply  greedy and brute force algorithms to solve optimization problems"
      ]
    },
    {
      "cell_type": "markdown",
      "id": "7717a27a",
      "metadata": {
        "id": "7717a27a"
      },
      "source": [
        "#### Intended Learning Outcomes (ILOs):\n",
        "* Demonstrate how to solve knapsacks problems using greedy algorithm\n",
        "* Demonstrate how to  solve knapsacks problems using brute force algorithm\n"
      ]
    },
    {
      "cell_type": "markdown",
      "id": "6454cfe7",
      "metadata": {
        "id": "6454cfe7"
      },
      "source": [
        "#### Resources:\n",
        "* Jupyter Notebook\n"
      ]
    },
    {
      "cell_type": "markdown",
      "id": "433711ac",
      "metadata": {
        "id": "433711ac"
      },
      "source": [
        "#### Procedures:"
      ]
    },
    {
      "cell_type": "markdown",
      "id": "e54a8995",
      "metadata": {
        "id": "e54a8995"
      },
      "source": [
        "1. Create a Food class that defines the following:\n",
        "* name of the food\n",
        "* value of the food\n",
        "* calories of the food\n",
        "\n",
        "2. Create the following methods inside the Food class:\n",
        "* A method that returns the value of the food\n",
        "* A method that returns the cost of the food\n",
        "* A method that calculates the density of the food (Value / Cost)\n",
        "* A method that returns a string to display the name, value and calories of the food"
      ]
    },
    {
      "cell_type": "code",
      "execution_count": null,
      "id": "cdd8310c",
      "metadata": {
        "id": "cdd8310c"
      },
      "outputs": [],
      "source": [
        "class Food(object):\n",
        "    def __init__(self, n, v, w):\n",
        "        # Make the variables private\n",
        "        self.name = n\n",
        "        self.value = v\n",
        "        self.calories = w\n",
        "    def getValue(self):\n",
        "        return self.value\n",
        "    def getCost(self):\n",
        "        return self.calories\n",
        "    def density(self):\n",
        "        return self.getValue()/self.getCost()\n",
        "    def __str__(self):\n",
        "        return self.name + ': <' + str(self.value)+ ', ' + str(self.calories) + '>'"
      ]
    },
    {
      "cell_type": "markdown",
      "id": "b36eee15",
      "metadata": {
        "id": "b36eee15"
      },
      "source": [
        "3. Create a buildMenu method that builds the name, value and calories of the food\n"
      ]
    },
    {
      "cell_type": "code",
      "execution_count": null,
      "id": "509672a4",
      "metadata": {
        "id": "509672a4"
      },
      "outputs": [],
      "source": [
        "def buildMenu(names, values, calories):\n",
        "    menu = []\n",
        "    for i in range(len(values)):\n",
        "        menu.append(Food(names[i], values[i],calories[i]))\n",
        "    return menu"
      ]
    },
    {
      "cell_type": "markdown",
      "id": "86f3a85b",
      "metadata": {
        "id": "86f3a85b"
      },
      "source": [
        "4. Create a method greedy to return total value and cost of added food based on the desired maximum cost"
      ]
    },
    {
      "cell_type": "code",
      "execution_count": null,
      "id": "b76912f0",
      "metadata": {
        "id": "b76912f0"
      },
      "outputs": [],
      "source": [
        "def greedy(items, maxCost, keyFunction):\n",
        "    \"\"\"Assumes items a list, maxCost >= 0,         keyFunction maps elements of items to numbers\"\"\"\n",
        "    itemsCopy = sorted(items, key = keyFunction,\n",
        "                       reverse = True)\n",
        "    result = []\n",
        "    totalValue, totalCost = 0.0, 0.0\n",
        "    for i in range(len(itemsCopy)):\n",
        "        if (totalCost+itemsCopy[i].getCost()) <= maxCost:\n",
        "            result.append(itemsCopy[i])\n",
        "            totalCost += itemsCopy[i].getCost()\n",
        "            totalValue += itemsCopy[i].getValue()\n",
        "    return (result, totalValue)"
      ]
    },
    {
      "cell_type": "markdown",
      "id": "887c566c",
      "metadata": {
        "id": "887c566c"
      },
      "source": [
        "5. Create a testGreedy method to test the greedy method"
      ]
    },
    {
      "cell_type": "code",
      "execution_count": null,
      "id": "61f2a7b0",
      "metadata": {
        "id": "61f2a7b0"
      },
      "outputs": [],
      "source": [
        "def testGreedy(items, constraint, keyFunction):\n",
        "    taken, val = greedy(items, constraint, keyFunction)\n",
        "    print('Total value of items taken =', val)\n",
        "    for item in taken:\n",
        "        print('   ', item)"
      ]
    },
    {
      "cell_type": "code",
      "execution_count": null,
      "id": "f93e5bfe",
      "metadata": {
        "id": "f93e5bfe"
      },
      "outputs": [],
      "source": [
        "def testGreedys(foods, maxUnits):\n",
        "    print('Use greedy by value to allocate', maxUnits,          'calories')\n",
        "    testGreedy(foods, maxUnits, Food.getValue)\n",
        "    print('\\nUse greedy by cost to allocate', maxUnits,          'calories')\n",
        "    testGreedy(foods, maxUnits, lambda x: 1/Food.getCost(x))\n",
        "    print('\\nUse greedy by density to allocate', maxUnits,          'calories')\n",
        "    testGreedy(foods, maxUnits, Food.density)"
      ]
    },
    {
      "cell_type": "markdown",
      "id": "cdf99f37",
      "metadata": {
        "id": "cdf99f37"
      },
      "source": [
        "6. Create arrays of food name, values and calories\n",
        "7. Call the buildMenu to create menu for food\n",
        "8. Use testGreedys method to pick food according to the desired calories"
      ]
    },
    {
      "cell_type": "code",
      "execution_count": null,
      "id": "ee22c2dd",
      "metadata": {
        "id": "ee22c2dd",
        "outputId": "173a40ab-a589-4065-e80f-6e1996a3b89d",
        "colab": {
          "base_uri": "https://localhost:8080/"
        }
      },
      "outputs": [
        {
          "output_type": "stream",
          "name": "stdout",
          "text": [
            "Use greedy by value to allocate 2000 calories\n",
            "Total value of items taken = 603.0\n",
            "    burger: <100, 354>\n",
            "    pizza: <95, 258>\n",
            "    beer: <90, 154>\n",
            "    fries: <90, 365>\n",
            "    wine: <89, 123>\n",
            "    cola: <79, 150>\n",
            "    apple: <50, 95>\n",
            "    donut: <10, 195>\n",
            "\n",
            "Use greedy by cost to allocate 2000 calories\n",
            "Total value of items taken = 603.0\n",
            "    apple: <50, 95>\n",
            "    wine: <89, 123>\n",
            "    cola: <79, 150>\n",
            "    beer: <90, 154>\n",
            "    donut: <10, 195>\n",
            "    pizza: <95, 258>\n",
            "    burger: <100, 354>\n",
            "    fries: <90, 365>\n",
            "\n",
            "Use greedy by density to allocate 2000 calories\n",
            "Total value of items taken = 603.0\n",
            "    wine: <89, 123>\n",
            "    beer: <90, 154>\n",
            "    cola: <79, 150>\n",
            "    apple: <50, 95>\n",
            "    pizza: <95, 258>\n",
            "    burger: <100, 354>\n",
            "    fries: <90, 365>\n",
            "    donut: <10, 195>\n"
          ]
        }
      ],
      "source": [
        "names = ['wine', 'beer', 'pizza', 'burger', 'fries','cola', 'apple', 'donut', 'cake']\n",
        "values = [89,90,95,100,90,79,50,10]\n",
        "calories = [123,154,258,354,365,150,95,195]\n",
        "foods = buildMenu(names, values, calories)\n",
        "testGreedys(foods, 2000)"
      ]
    },
    {
      "cell_type": "markdown",
      "id": "a6bae808",
      "metadata": {
        "id": "a6bae808"
      },
      "source": [
        "Task 1: Change the maxUnits to 100"
      ]
    },
    {
      "cell_type": "code",
      "execution_count": null,
      "id": "3c9655c5",
      "metadata": {
        "id": "3c9655c5"
      },
      "outputs": [],
      "source": [
        "names = ['wine', 'beer', 'pizza', 'burger', 'fries', 'cola', 'apple', 'donut', 'cake']\n",
        "values = [89, 90, 95, 100, 90, 79, 50, 10]\n",
        "calories = [123, 154, 258, 354, 365, 150, 95, 195]\n",
        "foods = buildMenu(names, values, calories)\n",
        "testGreedys(foods, 100)\n"
      ]
    },
    {
      "cell_type": "markdown",
      "id": "d13f4bdc",
      "metadata": {
        "id": "d13f4bdc"
      },
      "source": [
        "Task 2: Modify codes to add additional weight (criterion) to select food items."
      ]
    },
    {
      "cell_type": "code",
      "execution_count": null,
      "id": "61fd22fa",
      "metadata": {
        "id": "61fd22fa"
      },
      "outputs": [],
      "source": [
        "class Food(object):\n",
        "    def __init__(self, n, v, w, wt):\n",
        "        self.name = n\n",
        "        self.value = v\n",
        "        self.calories = w\n",
        "        self.weight = wt\n",
        "\n",
        "    def getValue(self):\n",
        "        return self.value\n",
        "\n",
        "    def getCost(self):\n",
        "        return self.calories\n",
        "\n",
        "    def getWeight(self):\n",
        "        return self.weight\n",
        "\n",
        "    def density(self):\n",
        "        return self.getValue() / self.getCost()\n",
        "\n",
        "    def __str__(self):\n",
        "        return self.name + ': <' + str(self.value) + ', ' + str(self.calories) + ', ' + str(self.weight) + '>'\n"
      ]
    },
    {
      "cell_type": "code",
      "source": [
        "def buildMenu(names, values, calories, weights):\n",
        "    menu = []\n",
        "    for i in range(len(values)):\n",
        "        menu.append(Food(names[i], values[i], calories[i], weights[i]))\n",
        "    return menu\n"
      ],
      "metadata": {
        "id": "eQ5oOGY3AAfF"
      },
      "id": "eQ5oOGY3AAfF",
      "execution_count": null,
      "outputs": []
    },
    {
      "cell_type": "code",
      "source": [
        "def greedy(items, maxCost, keyFunction):\n",
        "    \"\"\"Assumes items a list, maxCost >= 0,         keyFunction maps elements of items to numbers\"\"\"\n",
        "    itemsCopy = sorted(items, key = keyFunction,\n",
        "                       reverse = True)\n",
        "    result = []\n",
        "    totalValue, totalCost = 0.0, 0.0\n",
        "    for i in range(len(itemsCopy)):\n",
        "        if (totalCost+itemsCopy[i].getCost()) <= maxCost:\n",
        "            result.append(itemsCopy[i])\n",
        "            totalCost += itemsCopy[i].getCost()\n",
        "            totalValue += itemsCopy[i].getValue()\n",
        "    return (result, totalValue)"
      ],
      "metadata": {
        "id": "uk9YrszqIsof"
      },
      "id": "uk9YrszqIsof",
      "execution_count": null,
      "outputs": []
    },
    {
      "cell_type": "code",
      "source": [
        "def testGreedy(items, constraint, keyFunction):\n",
        "    taken, val = greedy(items, constraint, keyFunction)\n",
        "    print('Total value of items taken =', val)\n",
        "    for item in taken:\n",
        "        print('   ', item)"
      ],
      "metadata": {
        "id": "fRMkyvdwIuKr"
      },
      "id": "fRMkyvdwIuKr",
      "execution_count": null,
      "outputs": []
    },
    {
      "cell_type": "code",
      "source": [
        "def testGreedys(foods, maxUnits):\n",
        "    print('Use greedy by value to allocate', maxUnits, 'calories')\n",
        "    testGreedy(foods, maxUnits, Food.getValue)\n",
        "\n",
        "    print('\\nUse greedy by cost to allocate', maxUnits, 'calories')\n",
        "    testGreedy(foods, maxUnits, lambda x: 1/Food.getCost(x))\n",
        "\n",
        "    print('\\nUse greedy by density to allocate', maxUnits, 'calories')\n",
        "    testGreedy(foods, maxUnits, Food.density)\n",
        "\n",
        "    print('\\nUse greedy by weight to allocate', maxUnits, 'calories')\n",
        "    testGreedy(foods, maxUnits, Food.getWeight)\n"
      ],
      "metadata": {
        "id": "Jb0RpHe-ADZ1"
      },
      "id": "Jb0RpHe-ADZ1",
      "execution_count": null,
      "outputs": []
    },
    {
      "cell_type": "markdown",
      "id": "ba95a8c6",
      "metadata": {
        "id": "ba95a8c6"
      },
      "source": [
        "Task 3: Test your modified code to test the greedy algorithm to select food items with your additional weight."
      ]
    },
    {
      "cell_type": "code",
      "execution_count": null,
      "id": "9d9b25c1",
      "metadata": {
        "id": "9d9b25c1",
        "colab": {
          "base_uri": "https://localhost:8080/"
        },
        "outputId": "11614004-45c7-4cb7-bc67-1593cd15ed61"
      },
      "outputs": [
        {
          "output_type": "stream",
          "name": "stdout",
          "text": [
            "Use greedy by value to allocate 1800 calories\n",
            "Total value of items taken = 603.0\n",
            "    burger: <100, 354, 466>\n",
            "    pizza: <95, 258, 312>\n",
            "    beer: <90, 154, 250>\n",
            "    fries: <90, 365, 100>\n",
            "    wine: <89, 123, 180>\n",
            "    cola: <79, 150, 126>\n",
            "    apple: <50, 95, 22>\n",
            "    donut: <10, 195, 21>\n",
            "\n",
            "Use greedy by cost to allocate 1800 calories\n",
            "Total value of items taken = 603.0\n",
            "    apple: <50, 95, 22>\n",
            "    wine: <89, 123, 180>\n",
            "    cola: <79, 150, 126>\n",
            "    beer: <90, 154, 250>\n",
            "    donut: <10, 195, 21>\n",
            "    pizza: <95, 258, 312>\n",
            "    burger: <100, 354, 466>\n",
            "    fries: <90, 365, 100>\n",
            "\n",
            "Use greedy by density to allocate 1800 calories\n",
            "Total value of items taken = 603.0\n",
            "    wine: <89, 123, 180>\n",
            "    beer: <90, 154, 250>\n",
            "    cola: <79, 150, 126>\n",
            "    apple: <50, 95, 22>\n",
            "    pizza: <95, 258, 312>\n",
            "    burger: <100, 354, 466>\n",
            "    fries: <90, 365, 100>\n",
            "    donut: <10, 195, 21>\n",
            "\n",
            "Use greedy by weight to allocate 1800 calories\n",
            "Total value of items taken = 603.0\n",
            "    burger: <100, 354, 466>\n",
            "    pizza: <95, 258, 312>\n",
            "    beer: <90, 154, 250>\n",
            "    wine: <89, 123, 180>\n",
            "    cola: <79, 150, 126>\n",
            "    fries: <90, 365, 100>\n",
            "    apple: <50, 95, 22>\n",
            "    donut: <10, 195, 21>\n"
          ]
        }
      ],
      "source": [
        "names = ['wine', 'beer', 'pizza', 'burger', 'fries', 'cola', 'apple', 'donut', 'cake']\n",
        "values = [89, 90, 95, 100, 90, 79, 50, 10]\n",
        "calories = [123, 154, 258, 354, 365, 150, 95, 195]\n",
        "weights = [180, 250, 312, 466, 100, 126, 22, 21, 15]\n",
        "foods = buildMenu(names, values, calories, weights)\n",
        "testGreedys(foods, 1800)\n",
        "\n"
      ]
    },
    {
      "cell_type": "markdown",
      "id": "1baef0aa",
      "metadata": {
        "id": "1baef0aa"
      },
      "source": [
        "9. Create method to use  Bruteforce algorithm instead of greedy algorithm"
      ]
    },
    {
      "cell_type": "code",
      "execution_count": null,
      "id": "3f61953e",
      "metadata": {
        "id": "3f61953e"
      },
      "outputs": [],
      "source": [
        "def maxVal(toConsider, avail):\n",
        "    \"\"\"Assumes toConsider a list of items, avail a weight\n",
        "       Returns a tuple of the total value of a solution to the\n",
        "         0/1 knapsack problem and the items of that solution\"\"\"\n",
        "    if toConsider == [] or avail == 0:\n",
        "        result = (0, ())\n",
        "    elif toConsider[0].getCost() > avail:\n",
        "        #Explore right branch only\n",
        "        result = maxVal(toConsider[1:], avail)\n",
        "    else:\n",
        "        nextItem = toConsider[0]\n",
        "        #Explore left branch\n",
        "        withVal, withToTake = maxVal(toConsider[1:],\n",
        "                                     avail - nextItem.getCost())\n",
        "        withVal += nextItem.getValue()\n",
        "        #Explore right branch\n",
        "        withoutVal, withoutToTake = maxVal(toConsider[1:], avail)\n",
        "        #Choose better branch\n",
        "        if withVal > withoutVal:\n",
        "            result = (withVal, withToTake + (nextItem,))\n",
        "        else:\n",
        "            result = (withoutVal, withoutToTake)\n",
        "    return result"
      ]
    },
    {
      "cell_type": "code",
      "execution_count": null,
      "id": "601e6dfe",
      "metadata": {
        "id": "601e6dfe"
      },
      "outputs": [],
      "source": [
        "def testMaxVal(foods, maxUnits, printItems = True):\n",
        "    print('Use search tree to allocate', maxUnits,\n",
        "          'calories')\n",
        "    val, taken = maxVal(foods, maxUnits)\n",
        "    print('Total costs of foods taken =', val)\n",
        "    if printItems:\n",
        "        for item in taken:\n",
        "            print('   ', item)"
      ]
    },
    {
      "cell_type": "code",
      "execution_count": null,
      "id": "f4c33d92",
      "metadata": {
        "id": "f4c33d92",
        "outputId": "c7f2ca94-5fa3-47e2-d327-46d8a64942cf",
        "colab": {
          "base_uri": "https://localhost:8080/"
        }
      },
      "outputs": [
        {
          "output_type": "stream",
          "name": "stdout",
          "text": [
            "Use search tree to allocate 1800 calories\n",
            "Total costs of foods taken = 603\n",
            "    donut: <10, 195, 21>\n",
            "    apple: <50, 95, 22>\n",
            "    cola: <79, 150, 126>\n",
            "    fries: <90, 365, 100>\n",
            "    burger: <100, 354, 466>\n",
            "    pizza: <95, 258, 312>\n",
            "    beer: <90, 154, 250>\n",
            "    wine: <89, 123, 180>\n"
          ]
        }
      ],
      "source": [
        "names = ['wine', 'beer', 'pizza', 'burger', 'fries','cola', 'apple', 'donut', 'cake']\n",
        "values = [89,90,95,100,90,79,50,10]\n",
        "calories = [123,154,258,354,365,150,95,195]\n",
        "foods = buildMenu(names, values, calories, weights)\n",
        "testMaxVal(foods, 1800)"
      ]
    },
    {
      "cell_type": "markdown",
      "id": "5e8ee81f",
      "metadata": {
        "id": "5e8ee81f"
      },
      "source": [
        "#### Supplementary Activity:"
      ]
    },
    {
      "cell_type": "markdown",
      "id": "f7eb02e1",
      "metadata": {
        "id": "f7eb02e1"
      },
      "source": [
        "* Choose a real-world problem that solves knapsacks problem\n",
        "* Use the greedy and brute force algorithm to solve knapsacks problem\n"
      ]
    },
    {
      "cell_type": "markdown",
      "source": [
        "\n",
        "\n",
        "```\n",
        "# This is formatted as code\n",
        "```\n",
        "\n",
        "**Sheen's Course Selection**\n",
        "\n",
        "\n",
        "\n",
        "Sheen is a Second-year student at the Technological Institute of the Philippines, and she needs to choose courses for the upcoming semester. She can enroll in a maximum of 18 units, but each course has a different number of units and priority value. The courses available to her include Differential Equations (4 units, value 85), Computanional thinking in Python Programming (3 units, value 90), Data Structures (3 units, value 80), Logic Circuits and Design (3 units, value 95), Reading in Philippine History (2 units, value 70), and Optimization Techniques (4 units, value 88).\n",
        "\n",
        "Sheen's goal is to select the combination of courses that maximizes her total priority value without exceeding the 18-unit limit.\n",
        "\n",
        "Which courses should she choose to get the most benefit out of the semester?"
      ],
      "metadata": {
        "id": "Djftlo9H79bK"
      },
      "id": "Djftlo9H79bK"
    },
    {
      "cell_type": "markdown",
      "source": [
        "1.) Create a Schedule class that defines the following\n",
        "\n",
        "\n",
        "*   course name\n",
        "*   units of course (hours required per week )\n",
        "*   value of class (relation to program)"
      ],
      "metadata": {
        "id": "gIRY1s7j2Fl2"
      },
      "id": "gIRY1s7j2Fl2"
    },
    {
      "cell_type": "code",
      "source": [
        "class Schedule(object):\n",
        "    def __init__(self, n, u, v):\n",
        "        self.name = n\n",
        "        self.units = u\n",
        "        self.value = v\n",
        "\n",
        "    def getValue(self):\n",
        "        return self.value\n",
        "\n",
        "    def getUnits(self):\n",
        "        return self.units\n",
        "\n",
        "    def density(self):\n",
        "        return self.getValue() / self.getUnits()\n",
        "\n",
        "    def __str__(self):\n",
        "        return f\"{self.name}: <{self.value}, {self.units}>\"\n"
      ],
      "metadata": {
        "id": "1UwQz8po2KHC"
      },
      "id": "1UwQz8po2KHC",
      "execution_count": null,
      "outputs": []
    },
    {
      "cell_type": "code",
      "source": [
        "def buildSchedule(names, units, values):\n",
        "    schedules = []\n",
        "    for i in range(len(names)):\n",
        "        schedules.append(Schedule(names[i], units[i], values[i]))\n",
        "    return schedules\n"
      ],
      "metadata": {
        "id": "JdsAdH1r2MYu"
      },
      "id": "JdsAdH1r2MYu",
      "execution_count": null,
      "outputs": []
    },
    {
      "cell_type": "code",
      "source": [
        "def greedy(items, maxCost, keyFunction):\n",
        "    itemsCopy = sorted(items, key=keyFunction)\n",
        "    result = []\n",
        "    totalValue, totalUnits = 0.0, 0.0\n",
        "\n",
        "    for i in range(len(itemsCopy)):\n",
        "        if (totalUnits + itemsCopy[i].getUnits()) <= maxCost:\n",
        "            result.append(itemsCopy[i])\n",
        "            totalUnits += itemsCopy[i].getUnits()\n",
        "            totalValue += itemsCopy[i].getValue()\n",
        "\n",
        "    return (result, totalValue)\n"
      ],
      "metadata": {
        "id": "f1fdO94N2SAI"
      },
      "id": "f1fdO94N2SAI",
      "execution_count": null,
      "outputs": []
    },
    {
      "cell_type": "code",
      "source": [
        "def testGreedy(items, constraint, keyFunction):\n",
        "    taken, val = greedy(items, constraint, keyFunction)\n",
        "    print('Total value of items taken =', val)\n",
        "    for item in taken:\n",
        "        print('   ', item)\n",
        "\n",
        "def testGreedys(schedules, maxUnits):\n",
        "    print('Use greedy by value to allocate', maxUnits, 'Units')\n",
        "    testGreedy(schedules, maxUnits, Schedule.getValue)\n",
        "\n",
        "    print('\\nUse greedy by least units to allocate', maxUnits, 'Units')\n",
        "    testGreedy(schedules, maxUnits, lambda x: 1/Schedule.getUnits(x))\n",
        "\n",
        "    print('\\nUse greedy by value per unit to allocate', maxUnits, 'Units')\n",
        "    testGreedy(schedules, maxUnits, Schedule.density)\n",
        "\n"
      ],
      "metadata": {
        "id": "7ovvsKic-Gpf"
      },
      "id": "7ovvsKic-Gpf",
      "execution_count": null,
      "outputs": []
    },
    {
      "cell_type": "code",
      "source": [
        "names = [\n",
        "    'Differential Equations', 'Computational Thinking', 'Data Structures',\n",
        "    'Logic Circuits', 'Philippine History', 'Optimization Techniques'\n",
        "]\n",
        "units = [4, 3, 3, 3, 2, 4]\n",
        "values = [85, 90, 80, 95, 70, 88]\n",
        "\n",
        "schedules = buildSchedule(names, units, values)\n",
        "testGreedys(schedules, 18)"
      ],
      "metadata": {
        "colab": {
          "base_uri": "https://localhost:8080/"
        },
        "id": "0bc8IUfdBOwO",
        "outputId": "a66f6cc4-3312-4a6d-d076-dfdd5dbfaf1a"
      },
      "id": "0bc8IUfdBOwO",
      "execution_count": null,
      "outputs": [
        {
          "output_type": "stream",
          "name": "stdout",
          "text": [
            "Use greedy by value to allocate 18 Units\n",
            "Total value of items taken = 413.0\n",
            "    Philippine History: <70, 2>\n",
            "    Data Structures: <80, 3>\n",
            "    Differential Equations: <85, 4>\n",
            "    Optimization Techniques: <88, 4>\n",
            "    Computational Thinking: <90, 3>\n",
            "\n",
            "Use greedy by least units to allocate 18 Units\n",
            "Total value of items taken = 438.0\n",
            "    Differential Equations: <85, 4>\n",
            "    Optimization Techniques: <88, 4>\n",
            "    Computational Thinking: <90, 3>\n",
            "    Data Structures: <80, 3>\n",
            "    Logic Circuits: <95, 3>\n",
            "\n",
            "Use greedy by value per unit to allocate 18 Units\n",
            "Total value of items taken = 438.0\n",
            "    Differential Equations: <85, 4>\n",
            "    Optimization Techniques: <88, 4>\n",
            "    Data Structures: <80, 3>\n",
            "    Computational Thinking: <90, 3>\n",
            "    Logic Circuits: <95, 3>\n"
          ]
        }
      ]
    },
    {
      "cell_type": "code",
      "source": [
        "#using brute force\n",
        "def maxValBruteForce(toConsider, maxUnits):\n",
        "\n",
        "    if not toConsider or maxUnits == 0:\n",
        "        return (0, ())  # No value and no courses\n",
        "\n",
        "    nextCourse = toConsider[0]\n",
        "\n",
        "    if nextCourse.getUnits() > maxUnits:\n",
        "\n",
        "        result = maxValBruteForce(toConsider[1:], maxUnits)\n",
        "    else:\n",
        "\n",
        "        withValue, withCourses = maxValBruteForce(\n",
        "            toConsider[1:], maxUnits - nextCourse.getUnits()\n",
        "        )\n",
        "        withValue += nextCourse.getValue()\n",
        "\n",
        "        withoutValue, withoutCourses = maxValBruteForce(toConsider[1:], maxUnits)\n",
        "\n",
        "        if withValue > withoutValue:\n",
        "            result = (withValue, withCourses + (nextCourse,))\n",
        "        else:\n",
        "            result = (withoutValue, withoutCourses)\n",
        "\n",
        "    return result\n",
        "\n"
      ],
      "metadata": {
        "id": "axXojk03J4K7"
      },
      "id": "axXojk03J4K7",
      "execution_count": null,
      "outputs": []
    },
    {
      "cell_type": "code",
      "source": [
        "def testMaxValBruteForce(schedules, maxUnits, printCourses=True):\n",
        "    print(f\"Max units: {maxUnits}\")\n",
        "    val, selectedCourses = maxValBruteForce(schedules, maxUnits)\n",
        "    print(f\"Total value of selected courses: {val}\")\n",
        "    if printCourses:\n",
        "        print(\"Courses selected:\")\n",
        "        for course in selectedCourses:\n",
        "            print(f\"  {course.name}: <Value: {course.value}, Units: {course.units}>\")\n"
      ],
      "metadata": {
        "id": "360P61AxMAN3"
      },
      "id": "360P61AxMAN3",
      "execution_count": null,
      "outputs": []
    },
    {
      "cell_type": "code",
      "source": [
        "\n",
        "names = [\n",
        "    \"Differential Equations\",\n",
        "    \"Computational Thinking\",\n",
        "    \"Data Structures\",\n",
        "    \"Logic Circuits\",\n",
        "    \"Philippine History\",\n",
        "    \"Optimization Techniques\"\n",
        "]\n",
        "\n",
        "values = [85, 90, 80, 95, 70, 88]  # Course priority values\n",
        "units = [4, 3, 3, 3, 2, 4]  # Course units\n",
        "\n",
        "schedules = buildSchedule(names, units, values)\n",
        "\n",
        "maxUnits = 18  # Maximum units Sheen can take\n",
        "\n",
        "\n",
        "testMaxValBruteForce(schedules, maxUnits)\n"
      ],
      "metadata": {
        "colab": {
          "base_uri": "https://localhost:8080/"
        },
        "id": "RsV9dT-fMPa9",
        "outputId": "64950458-9589-42b4-c2a2-f70e8f935d0c"
      },
      "id": "RsV9dT-fMPa9",
      "execution_count": null,
      "outputs": [
        {
          "output_type": "stream",
          "name": "stdout",
          "text": [
            "Max units: 18\n",
            "Total value of selected courses: 438\n",
            "Courses selected:\n",
            "  Optimization Techniques: <Value: 88, Units: 4>\n",
            "  Logic Circuits: <Value: 95, Units: 3>\n",
            "  Data Structures: <Value: 80, Units: 3>\n",
            "  Computational Thinking: <Value: 90, Units: 3>\n",
            "  Differential Equations: <Value: 85, Units: 4>\n"
          ]
        }
      ]
    },
    {
      "cell_type": "markdown",
      "id": "fb608ce3",
      "metadata": {
        "id": "fb608ce3"
      },
      "source": [
        "#type your conclusion here"
      ]
    },
    {
      "cell_type": "markdown",
      "source": [
        "In order to maximize Sheen's academic worth within the 18-unit constraint, her course selection strategy makes use of both greedy algorithms and brute force. By weighing each potential combination. Sheen can design a balanced and high-priority academic schedule for the semester by combining these strategies.\n",
        "\n",
        "Brute force Overthinking every course combo."
      ],
      "metadata": {
        "id": "H8arOkxQD6zX"
      },
      "id": "H8arOkxQD6zX"
    }
  ],
  "metadata": {
    "kernelspec": {
      "display_name": "Python 3",
      "language": "python",
      "name": "python3"
    },
    "language_info": {
      "codemirror_mode": {
        "name": "ipython",
        "version": 3
      },
      "file_extension": ".py",
      "mimetype": "text/x-python",
      "name": "python",
      "nbconvert_exporter": "python",
      "pygments_lexer": "ipython3",
      "version": "3.7.10"
    },
    "colab": {
      "provenance": [],
      "include_colab_link": true
    }
  },
  "nbformat": 4,
  "nbformat_minor": 5
}