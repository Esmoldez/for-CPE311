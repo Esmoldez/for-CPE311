{
  "nbformat": 4,
  "nbformat_minor": 0,
  "metadata": {
    "colab": {
      "provenance": [],
      "authorship_tag": "ABX9TyN5K7zzbgtoX/G/3rTEUe3A",
      "include_colab_link": true
    },
    "kernelspec": {
      "name": "python3",
      "display_name": "Python 3"
    },
    "language_info": {
      "name": "python"
    }
  },
  "cells": [
    {
      "cell_type": "markdown",
      "metadata": {
        "id": "view-in-github",
        "colab_type": "text"
      },
      "source": [
        "<a href=\"https://colab.research.google.com/github/Esmoldez/for-CPE311/blob/main/test.ipynb\" target=\"_parent\"><img src=\"https://colab.research.google.com/assets/colab-badge.svg\" alt=\"Open In Colab\"/></a>"
      ]
    },
    {
      "cell_type": "markdown",
      "source": [
        "**Name :** Moldez, Ericka Sheen C.<br>\n",
        "**Instructor** : Engr/Dr. Roman Richard><br>\n",
        "**Hands on title** : Hands-on Activity 0. Pre-lab Assessment<br>\n",
        "**Date Submitted** : 01 / 22 /2025\n",
        "\n",
        "  "
      ],
      "metadata": {
        "id": "upREDAaKjW05"
      }
    },
    {
      "cell_type": "code",
      "source": [
        "def factorial(n):\n",
        "    if n == 0:\n",
        "        return 1\n",
        "        return n * factorial()"
      ],
      "metadata": {
        "id": "Jh_fOcJOhdTG"
      },
      "execution_count": null,
      "outputs": []
    },
    {
      "cell_type": "code",
      "source": [
        "#much longer\n",
        "def factorial(n):\n",
        "  if n == 0:\n",
        "    return 1\n",
        "    return n * factorial(n - 1)\n",
        "\n",
        "number = 8\n",
        "\n",
        "print(f\"The factorial of {number} is {factorial(number)}\")\n",
        "\n",
        "[ ]\n",
        "\n"
      ],
      "metadata": {
        "id": "crpr8NehH4Wc",
        "colab": {
          "base_uri": "https://localhost:8080/"
        },
        "outputId": "8e0cc419-5a4c-4cbb-ccec-48b1627052d0"
      },
      "execution_count": null,
      "outputs": [
        {
          "output_type": "stream",
          "name": "stdout",
          "text": [
            "The factorial of 8 is None\n"
          ]
        },
        {
          "output_type": "execute_result",
          "data": {
            "text/plain": [
              "[]"
            ]
          },
          "metadata": {},
          "execution_count": 4
        }
      ]
    },
    {
      "cell_type": "code",
      "source": [
        "#efficient and shorter(engr richard's code)\n",
        "def factorial(n):\n",
        "  if n == 0:\n",
        "    return 1\n",
        "  return n * factorial(n - 1)\n",
        "\n",
        "factorial(8)"
      ],
      "metadata": {
        "colab": {
          "base_uri": "https://localhost:8080/"
        },
        "id": "6IOrTgOlM5eJ",
        "outputId": "f3b48afd-6a54-4300-d37b-6b6a294eea7c"
      },
      "execution_count": null,
      "outputs": [
        {
          "output_type": "execute_result",
          "data": {
            "text/plain": [
              "40320"
            ]
          },
          "metadata": {},
          "execution_count": 1
        }
      ]
    },
    {
      "cell_type": "markdown",
      "source": [],
      "metadata": {
        "id": "jgWO9g3xjM51"
      }
    },
    {
      "cell_type": "code",
      "source": [
        "#sample(engr richard's code)\n",
        "def factloop(n):\n",
        "  i = 1\n",
        "  returnVal = 1\n",
        "  while i<= n:\n",
        "    returnVal = returnVal * 1\n",
        "    i = i+1\n",
        "  return returnVal\n",
        "\n",
        "  factloop(5)"
      ],
      "metadata": {
        "id": "xQDkXWkVLp_0"
      },
      "execution_count": null,
      "outputs": []
    },
    {
      "cell_type": "code",
      "source": [
        "# try for loop\n",
        "def factorial(n):\n",
        "    result = 1\n",
        "    for i in range(1, n + 1):\n",
        "        result *=\n",
        "    return result"
      ],
      "metadata": {
        "colab": {
          "base_uri": "https://localhost:8080/",
          "height": 106
        },
        "id": "0PCtRYhuiuYz",
        "outputId": "55abdadd-403f-442d-a1b3-c33c7bd79801"
      },
      "execution_count": null,
      "outputs": [
        {
          "output_type": "error",
          "ename": "SyntaxError",
          "evalue": "invalid syntax (<ipython-input-1-9332fa4ee924>, line 5)",
          "traceback": [
            "\u001b[0;36m  File \u001b[0;32m\"<ipython-input-1-9332fa4ee924>\"\u001b[0;36m, line \u001b[0;32m5\u001b[0m\n\u001b[0;31m    result *=\u001b[0m\n\u001b[0m              ^\u001b[0m\n\u001b[0;31mSyntaxError\u001b[0m\u001b[0;31m:\u001b[0m invalid syntax\n"
          ]
        }
      ]
    },
    {
      "cell_type": "code",
      "source": [
        "def factorial(n):\n",
        "    result = 1\n",
        "    for i in range(1, n + 1):\n",
        "        result *= i\n",
        "    return result\n",
        "factorial(8)\n"
      ],
      "metadata": {
        "colab": {
          "base_uri": "https://localhost:8080/"
        },
        "id": "XlM709MGQRAV",
        "outputId": "207b60d4-4938-4483-8da8-aaff2bd3038b"
      },
      "execution_count": null,
      "outputs": [
        {
          "output_type": "execute_result",
          "data": {
            "text/plain": [
              "40320"
            ]
          },
          "metadata": {},
          "execution_count": 23
        }
      ]
    }
  ]
}